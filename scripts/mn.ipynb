{
 "cells": [
  {
   "cell_type": "code",
   "execution_count": 21,
   "metadata": {},
   "outputs": [
    {
     "data": {
      "text/plain": [
       "<bound method NDFrame.head of      Unnamed: 0  LocationID        borough                     zone  \\\n",
       "0             0           1            EWR           Newark Airport   \n",
       "1             1           2         Queens              Jamaica Bay   \n",
       "2             2           3          Bronx  Allerton/Pelham Gardens   \n",
       "3             3           4      Manhattan            Alphabet City   \n",
       "4             4           5  Staten Island            Arden Heights   \n",
       "..          ...         ...            ...                      ...   \n",
       "266         258         259          Bronx       Woodlawn/Wakefield   \n",
       "267         259         260         Queens                 Woodside   \n",
       "268         260         261      Manhattan       World Trade Center   \n",
       "269         261         262      Manhattan           Yorkville East   \n",
       "270         262         263      Manhattan           Yorkville West   \n",
       "\n",
       "     longitude   latitude  \n",
       "0   -74.171533  40.689483  \n",
       "1   -73.822478  40.610824  \n",
       "2   -73.844953  40.865747  \n",
       "3   -73.977725  40.724137  \n",
       "4   -74.187558  40.550664  \n",
       "..         ...        ...  \n",
       "266 -73.856334  40.899061  \n",
       "267 -73.906851  40.746603  \n",
       "268 -74.012643  40.709120  \n",
       "269 -73.945142  40.776681  \n",
       "270 -73.951008  40.778766  \n",
       "\n",
       "[271 rows x 6 columns]>"
      ]
     },
     "execution_count": 21,
     "metadata": {},
     "output_type": "execute_result"
    }
   ],
   "source": [
    "import pandas as pd\n",
    "import shapefile\n",
    "import os\n",
    "\n",
    "script_dir = os.path.abspath('')\n",
    "shp_file_path = os.path.join(script_dir, \"../data/ny_geo_shape_data/taxi_zones.shp\")\n",
    "target_path = os.path.join(script_dir, \"../components/dbt/app/seeds/seed.csv\")\n",
    "\n",
    "def get_lat_lon(sf):\n",
    "    content = []\n",
    "    for sr in sf.shapeRecords():\n",
    "        shape = sr.shape\n",
    "        rec = sr.record\n",
    "        loc_id = rec[shp_dic[\"LocationID\"]]\n",
    "\n",
    "        x = (shape.bbox[0] + shape.bbox[2]) / 2\n",
    "        y = (shape.bbox[1] + shape.bbox[3]) / 2\n",
    "\n",
    "        content.append((loc_id, x, y))\n",
    "    return pd.DataFrame(content, columns=[\"LocationID\", \"longitude\", \"latitude\"])\n",
    "\n",
    "\n",
    "sf = shapefile.Reader(shp_file_path)\n",
    "fields_name = [field[0] for field in sf.fields[1:]]\n",
    "shp_dic = dict(zip(fields_name, list(range(len(fields_name)))))\n",
    "attributes = sf.records()\n",
    "shp_attr = [dict(zip(fields_name, attr)) for attr in attributes]\n",
    "seed = pd.DataFrame(shp_attr).join(get_lat_lon(sf).set_index(\"LocationID\"), on=\"LocationID\")\n",
    "seed = seed[[\"LocationID\", \"borough\", \"zone\", \"longitude\", \"latitude\"]]\n",
    "seed.set_index(\"LocationID\")\n",
    "seed.to_csv(target_path, index=False)\n",
    "df_loc = pd.read_csv(target_path)\n",
    "df_loc.head"
   ]
  },
  {
   "cell_type": "code",
   "execution_count": null,
   "metadata": {},
   "outputs": [],
   "source": []
  }
 ],
 "metadata": {
  "kernelspec": {
   "display_name": "Python 3.10.0 64-bit",
   "language": "python",
   "name": "python3"
  },
  "language_info": {
   "codemirror_mode": {
    "name": "ipython",
    "version": 3
   },
   "file_extension": ".py",
   "mimetype": "text/x-python",
   "name": "python",
   "nbconvert_exporter": "python",
   "pygments_lexer": "ipython3",
   "version": "3.10.0"
  },
  "orig_nbformat": 4,
  "vscode": {
   "interpreter": {
    "hash": "767d51c1340bd893661ea55ea3124f6de3c7a262a8b4abca0554b478b1e2ff90"
   }
  }
 },
 "nbformat": 4,
 "nbformat_minor": 2
}
