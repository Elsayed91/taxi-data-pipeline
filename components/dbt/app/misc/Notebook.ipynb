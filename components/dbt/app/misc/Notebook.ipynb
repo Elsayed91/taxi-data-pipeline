{
 "cells": [
  {
   "cell_type": "markdown",
   "id": "0a1f26a5",
   "metadata": {},
   "source": [
    "# EDA"
   ]
  },
  {
   "cell_type": "markdown",
   "id": "7b09e2e0",
   "metadata": {},
   "source": [
    "To analyze this properly, we will need longitude and latitudes, to do this, we will need a shapefile. I have included the final CSV, however if you are interested you can get the shape file from [here](https://d37ci6vzurychx.cloudfront.net/misc/taxi_zones.zip) and use [this](https://disq.us/url?url=https%3A%2F%2Fmygeodata.cloud%2Fconverter%2Fshp-to-latlong%29%3APxLSP7AjU7-LLKjz3b1k2lZO5fc&cuid=5002428) to convert it to a usable form with proper coordinates."
   ]
  },
  {
   "cell_type": "code",
   "execution_count": 14,
   "id": "0579a97c",
   "metadata": {},
   "outputs": [],
   "source": [
    "# to get the df\n",
    "def get_lat_lon(sf):\n",
    "    content = []\n",
    "    for sr in sf.shapeRecords():\n",
    "        shape = sr.shape\n",
    "        rec = sr.record\n",
    "        loc_id = rec[shp_dic['LocationID']]\n",
    "        \n",
    "        x = (shape.bbox[0]+shape.bbox[2])/2\n",
    "        y = (shape.bbox[1]+shape.bbox[3])/2\n",
    "        \n",
    "        content.append((loc_id, x, y))\n",
    "    return pd.DataFrame(content, columns=[\"LocationID\", \"longitude\", \"latitude\"])\n",
    "\n",
    "sf = shapefile.Reader(\"shape/taxi_zones.shp\")\n",
    "fields_name = [field[0] for field in sf.fields[1:]]\n",
    "shp_dic = dict(zip(fields_name, list(range(len(fields_name)))))\n",
    "attributes = sf.records()\n",
    "shp_attr = [dict(zip(fields_name, attr)) for attr in attributes]\n",
    "\n",
    "df_loc = pd.DataFrame(shp_attr).join(get_lat_lon(sf).set_index(\"LocationID\"), on=\"LocationID\")\n",
    "df_loc.head()\n",
    "\n",
    "df_loc.to_csv(\"zones.csv\")"
   ]
  },
  {
   "cell_type": "code",
   "execution_count": 8,
   "id": "1a94cefa",
   "metadata": {},
   "outputs": [],
   "source": [
    "# Imports \n",
    "import pandas as pd\n",
    "import numpy as np\n",
    "import matplotlib.pyplot as plt\n",
    "import datetime\n",
    "import seaborn as sns\n",
    "plt.style.use(\"ggplot\")\n",
    "pd.set_option('display.float_format', lambda x: '%.3f' % x)\n",
    "\n",
    "import shapefile"
   ]
  },
  {
   "cell_type": "code",
   "execution_count": null,
   "id": "4f4cfcf3",
   "metadata": {},
   "outputs": [],
   "source": [
    "!wget https://d37ci6vzurychx.cloudfront.net/trip-data/yellow_tripdata_2022-06.parquet"
   ]
  },
  {
   "cell_type": "markdown",
   "id": "9c951d54",
   "metadata": {},
   "source": [
    "### Enriching with geo-data"
   ]
  },
  {
   "cell_type": "code",
   "execution_count": 82,
   "id": "d66120cd",
   "metadata": {},
   "outputs": [],
   "source": [
    "df_loc = pd.read_csv('shape.csv')"
   ]
  },
  {
   "cell_type": "code",
   "execution_count": 83,
   "id": "a8b34bcd",
   "metadata": {},
   "outputs": [
    {
     "data": {
      "text/html": [
       "<div>\n",
       "<style scoped>\n",
       "    .dataframe tbody tr th:only-of-type {\n",
       "        vertical-align: middle;\n",
       "    }\n",
       "\n",
       "    .dataframe tbody tr th {\n",
       "        vertical-align: top;\n",
       "    }\n",
       "\n",
       "    .dataframe thead th {\n",
       "        text-align: right;\n",
       "    }\n",
       "</style>\n",
       "<table border=\"1\" class=\"dataframe\">\n",
       "  <thead>\n",
       "    <tr style=\"text-align: right;\">\n",
       "      <th></th>\n",
       "      <th>LocationID</th>\n",
       "      <th>borough</th>\n",
       "      <th>longitude</th>\n",
       "      <th>latitude</th>\n",
       "    </tr>\n",
       "  </thead>\n",
       "  <tbody>\n",
       "    <tr>\n",
       "      <th>0</th>\n",
       "      <td>1</td>\n",
       "      <td>EWR</td>\n",
       "      <td>-74.172</td>\n",
       "      <td>40.689</td>\n",
       "    </tr>\n",
       "    <tr>\n",
       "      <th>1</th>\n",
       "      <td>2</td>\n",
       "      <td>Queens</td>\n",
       "      <td>-73.822</td>\n",
       "      <td>40.611</td>\n",
       "    </tr>\n",
       "    <tr>\n",
       "      <th>2</th>\n",
       "      <td>3</td>\n",
       "      <td>Bronx</td>\n",
       "      <td>-73.845</td>\n",
       "      <td>40.866</td>\n",
       "    </tr>\n",
       "    <tr>\n",
       "      <th>3</th>\n",
       "      <td>4</td>\n",
       "      <td>Manhattan</td>\n",
       "      <td>-73.978</td>\n",
       "      <td>40.724</td>\n",
       "    </tr>\n",
       "    <tr>\n",
       "      <th>4</th>\n",
       "      <td>5</td>\n",
       "      <td>Staten Island</td>\n",
       "      <td>-74.188</td>\n",
       "      <td>40.551</td>\n",
       "    </tr>\n",
       "    <tr>\n",
       "      <th>...</th>\n",
       "      <td>...</td>\n",
       "      <td>...</td>\n",
       "      <td>...</td>\n",
       "      <td>...</td>\n",
       "    </tr>\n",
       "    <tr>\n",
       "      <th>266</th>\n",
       "      <td>259</td>\n",
       "      <td>Bronx</td>\n",
       "      <td>-73.856</td>\n",
       "      <td>40.899</td>\n",
       "    </tr>\n",
       "    <tr>\n",
       "      <th>267</th>\n",
       "      <td>260</td>\n",
       "      <td>Queens</td>\n",
       "      <td>-73.907</td>\n",
       "      <td>40.747</td>\n",
       "    </tr>\n",
       "    <tr>\n",
       "      <th>268</th>\n",
       "      <td>261</td>\n",
       "      <td>Manhattan</td>\n",
       "      <td>-74.013</td>\n",
       "      <td>40.709</td>\n",
       "    </tr>\n",
       "    <tr>\n",
       "      <th>269</th>\n",
       "      <td>262</td>\n",
       "      <td>Manhattan</td>\n",
       "      <td>-73.945</td>\n",
       "      <td>40.777</td>\n",
       "    </tr>\n",
       "    <tr>\n",
       "      <th>270</th>\n",
       "      <td>263</td>\n",
       "      <td>Manhattan</td>\n",
       "      <td>-73.951</td>\n",
       "      <td>40.779</td>\n",
       "    </tr>\n",
       "  </tbody>\n",
       "</table>\n",
       "<p>271 rows × 4 columns</p>\n",
       "</div>"
      ],
      "text/plain": [
       "     LocationID        borough  longitude  latitude\n",
       "0             1            EWR    -74.172    40.689\n",
       "1             2         Queens    -73.822    40.611\n",
       "2             3          Bronx    -73.845    40.866\n",
       "3             4      Manhattan    -73.978    40.724\n",
       "4             5  Staten Island    -74.188    40.551\n",
       "..          ...            ...        ...       ...\n",
       "266         259          Bronx    -73.856    40.899\n",
       "267         260         Queens    -73.907    40.747\n",
       "268         261      Manhattan    -74.013    40.709\n",
       "269         262      Manhattan    -73.945    40.777\n",
       "270         263      Manhattan    -73.951    40.779\n",
       "\n",
       "[271 rows x 4 columns]"
      ]
     },
     "execution_count": 83,
     "metadata": {},
     "output_type": "execute_result"
    }
   ],
   "source": [
    "df_loc"
   ]
  },
  {
   "cell_type": "code",
   "execution_count": 681,
   "id": "aee3c047",
   "metadata": {},
   "outputs": [],
   "source": [
    "df = pd.read_parquet('yellow_tripdata_2022-06.parquet')\n",
    "df = df.sample(frac=0.05)"
   ]
  },
  {
   "cell_type": "code",
   "execution_count": 37,
   "id": "0a110c04",
   "metadata": {},
   "outputs": [
    {
     "data": {
      "text/html": [
       "<div>\n",
       "<style scoped>\n",
       "    .dataframe tbody tr th:only-of-type {\n",
       "        vertical-align: middle;\n",
       "    }\n",
       "\n",
       "    .dataframe tbody tr th {\n",
       "        vertical-align: top;\n",
       "    }\n",
       "\n",
       "    .dataframe thead th {\n",
       "        text-align: right;\n",
       "    }\n",
       "</style>\n",
       "<table border=\"1\" class=\"dataframe\">\n",
       "  <thead>\n",
       "    <tr style=\"text-align: right;\">\n",
       "      <th></th>\n",
       "      <th>VendorID</th>\n",
       "      <th>tpep_pickup_datetime</th>\n",
       "      <th>tpep_dropoff_datetime</th>\n",
       "      <th>passenger_count</th>\n",
       "      <th>trip_distance</th>\n",
       "      <th>RatecodeID</th>\n",
       "      <th>store_and_fwd_flag</th>\n",
       "      <th>PULocationID</th>\n",
       "      <th>DOLocationID</th>\n",
       "      <th>payment_type</th>\n",
       "      <th>fare_amount</th>\n",
       "      <th>extra</th>\n",
       "      <th>mta_tax</th>\n",
       "      <th>tip_amount</th>\n",
       "      <th>tolls_amount</th>\n",
       "      <th>improvement_surcharge</th>\n",
       "      <th>total_amount</th>\n",
       "      <th>congestion_surcharge</th>\n",
       "      <th>airport_fee</th>\n",
       "    </tr>\n",
       "  </thead>\n",
       "  <tbody>\n",
       "    <tr>\n",
       "      <th>1588209</th>\n",
       "      <td>1</td>\n",
       "      <td>2022-06-14 17:25:43</td>\n",
       "      <td>2022-06-14 17:59:44</td>\n",
       "      <td>2.000</td>\n",
       "      <td>2.900</td>\n",
       "      <td>1.000</td>\n",
       "      <td>N</td>\n",
       "      <td>249</td>\n",
       "      <td>264</td>\n",
       "      <td>2</td>\n",
       "      <td>20.500</td>\n",
       "      <td>3.500</td>\n",
       "      <td>0.500</td>\n",
       "      <td>0.000</td>\n",
       "      <td>0.000</td>\n",
       "      <td>0.300</td>\n",
       "      <td>24.800</td>\n",
       "      <td>2.500</td>\n",
       "      <td>0.000</td>\n",
       "    </tr>\n",
       "    <tr>\n",
       "      <th>2075258</th>\n",
       "      <td>2</td>\n",
       "      <td>2022-06-18 17:43:17</td>\n",
       "      <td>2022-06-18 17:54:09</td>\n",
       "      <td>1.000</td>\n",
       "      <td>1.870</td>\n",
       "      <td>1.000</td>\n",
       "      <td>N</td>\n",
       "      <td>239</td>\n",
       "      <td>237</td>\n",
       "      <td>1</td>\n",
       "      <td>9.500</td>\n",
       "      <td>0.000</td>\n",
       "      <td>0.500</td>\n",
       "      <td>2.560</td>\n",
       "      <td>0.000</td>\n",
       "      <td>0.300</td>\n",
       "      <td>15.360</td>\n",
       "      <td>2.500</td>\n",
       "      <td>0.000</td>\n",
       "    </tr>\n",
       "    <tr>\n",
       "      <th>2273847</th>\n",
       "      <td>1</td>\n",
       "      <td>2022-06-20 17:57:51</td>\n",
       "      <td>2022-06-20 18:01:29</td>\n",
       "      <td>4.000</td>\n",
       "      <td>0.600</td>\n",
       "      <td>1.000</td>\n",
       "      <td>N</td>\n",
       "      <td>113</td>\n",
       "      <td>234</td>\n",
       "      <td>2</td>\n",
       "      <td>4.500</td>\n",
       "      <td>3.500</td>\n",
       "      <td>0.500</td>\n",
       "      <td>0.000</td>\n",
       "      <td>0.000</td>\n",
       "      <td>0.300</td>\n",
       "      <td>8.800</td>\n",
       "      <td>2.500</td>\n",
       "      <td>0.000</td>\n",
       "    </tr>\n",
       "    <tr>\n",
       "      <th>61397</th>\n",
       "      <td>2</td>\n",
       "      <td>2022-06-01 15:54:59</td>\n",
       "      <td>2022-06-01 16:11:55</td>\n",
       "      <td>1.000</td>\n",
       "      <td>2.010</td>\n",
       "      <td>1.000</td>\n",
       "      <td>N</td>\n",
       "      <td>238</td>\n",
       "      <td>237</td>\n",
       "      <td>2</td>\n",
       "      <td>12.000</td>\n",
       "      <td>0.000</td>\n",
       "      <td>0.500</td>\n",
       "      <td>0.000</td>\n",
       "      <td>0.000</td>\n",
       "      <td>0.300</td>\n",
       "      <td>15.300</td>\n",
       "      <td>2.500</td>\n",
       "      <td>0.000</td>\n",
       "    </tr>\n",
       "    <tr>\n",
       "      <th>2125429</th>\n",
       "      <td>2</td>\n",
       "      <td>2022-06-19 02:06:21</td>\n",
       "      <td>2022-06-19 02:10:29</td>\n",
       "      <td>2.000</td>\n",
       "      <td>1.000</td>\n",
       "      <td>1.000</td>\n",
       "      <td>N</td>\n",
       "      <td>264</td>\n",
       "      <td>264</td>\n",
       "      <td>2</td>\n",
       "      <td>5.000</td>\n",
       "      <td>0.500</td>\n",
       "      <td>0.500</td>\n",
       "      <td>0.000</td>\n",
       "      <td>0.000</td>\n",
       "      <td>0.300</td>\n",
       "      <td>8.800</td>\n",
       "      <td>2.500</td>\n",
       "      <td>0.000</td>\n",
       "    </tr>\n",
       "  </tbody>\n",
       "</table>\n",
       "</div>"
      ],
      "text/plain": [
       "         VendorID tpep_pickup_datetime tpep_dropoff_datetime  passenger_count  \\\n",
       "1588209         1  2022-06-14 17:25:43   2022-06-14 17:59:44            2.000   \n",
       "2075258         2  2022-06-18 17:43:17   2022-06-18 17:54:09            1.000   \n",
       "2273847         1  2022-06-20 17:57:51   2022-06-20 18:01:29            4.000   \n",
       "61397           2  2022-06-01 15:54:59   2022-06-01 16:11:55            1.000   \n",
       "2125429         2  2022-06-19 02:06:21   2022-06-19 02:10:29            2.000   \n",
       "\n",
       "         trip_distance  RatecodeID store_and_fwd_flag  PULocationID  \\\n",
       "1588209          2.900       1.000                  N           249   \n",
       "2075258          1.870       1.000                  N           239   \n",
       "2273847          0.600       1.000                  N           113   \n",
       "61397            2.010       1.000                  N           238   \n",
       "2125429          1.000       1.000                  N           264   \n",
       "\n",
       "         DOLocationID  payment_type  fare_amount  extra  mta_tax  tip_amount  \\\n",
       "1588209           264             2       20.500  3.500    0.500       0.000   \n",
       "2075258           237             1        9.500  0.000    0.500       2.560   \n",
       "2273847           234             2        4.500  3.500    0.500       0.000   \n",
       "61397             237             2       12.000  0.000    0.500       0.000   \n",
       "2125429           264             2        5.000  0.500    0.500       0.000   \n",
       "\n",
       "         tolls_amount  improvement_surcharge  total_amount  \\\n",
       "1588209         0.000                  0.300        24.800   \n",
       "2075258         0.000                  0.300        15.360   \n",
       "2273847         0.000                  0.300         8.800   \n",
       "61397           0.000                  0.300        15.300   \n",
       "2125429         0.000                  0.300         8.800   \n",
       "\n",
       "         congestion_surcharge  airport_fee  \n",
       "1588209                 2.500        0.000  \n",
       "2075258                 2.500        0.000  \n",
       "2273847                 2.500        0.000  \n",
       "61397                   2.500        0.000  \n",
       "2125429                 2.500        0.000  "
      ]
     },
     "execution_count": 37,
     "metadata": {},
     "output_type": "execute_result"
    }
   ],
   "source": [
    "df.head()"
   ]
  },
  {
   "cell_type": "code",
   "execution_count": 125,
   "id": "24dfba14",
   "metadata": {},
   "outputs": [],
   "source": [
    "def ny_taxi_geo_merger(df1, df2):\n",
    "    df_merge = pd.merge(df1, df2, how=\"left\", left_on=['PULocationID'], right_on=['LocationID'] )\n",
    "    df_merge.rename(columns = {\"longitude\": \"pickup_long\", \"latitude\":'pickup_lat' }, \n",
    "          inplace = True)\n",
    "    df_merge.drop(['LocationID','PULocationID','borough'], axis=1, inplace=True)\n",
    "    df_merge = pd.merge(df_merge, df2, how=\"left\", left_on=['DOLocationID'], right_on=['LocationID'] )\n",
    "    df_merge.rename(columns = {\"longitude\": \"dropoff_long\", \"latitude\":'dropoff_lat' }, \n",
    "          inplace = True)\n",
    "    df_merge.drop(['LocationID','DOLocationID', 'borough'], axis=1, inplace=True)\n",
    "    return df_merge"
   ]
  },
  {
   "cell_type": "code",
   "execution_count": 129,
   "id": "79e8edf3",
   "metadata": {},
   "outputs": [],
   "source": [
    "def distance(s_lat, s_lng, e_lat, e_lng):\n",
    "\n",
    "   # approximate radius of earth in km\n",
    "   R = 6373.0\n",
    "\n",
    "   s_lat = s_lat*np.pi/180.0                      \n",
    "   s_lng = np.deg2rad(s_lng)     \n",
    "   e_lat = np.deg2rad(e_lat)                       \n",
    "   e_lng = np.deg2rad(e_lng)  \n",
    "\n",
    "   d = np.sin((e_lat - s_lat)/2)**2 + np.cos(s_lat)*np.cos(e_lat) * np.sin((e_lng - s_lng)/2)**2\n",
    "\n",
    "   return 2 * R * np.arcsin(np.sqrt(d))"
   ]
  },
  {
   "cell_type": "code",
   "execution_count": 659,
   "id": "0cb705aa",
   "metadata": {},
   "outputs": [],
   "source": [
    "def add_distances_from_airport(df):\n",
    "    #coordinates of all these airports\n",
    "    jfk_coords = (40.639722, -73.778889)\n",
    "    ewr_coords = (40.6925, -74.168611)\n",
    "    lga_coords = (40.77725, -73.872611)\n",
    "\n",
    "    df['pickup_jfk_distance'] = distance(jfk_coords[0], jfk_coords[1], df.pickup_lat, df.pickup_long)\n",
    "    df['dropoff_jfk_distance'] = distance(jfk_coords[0], jfk_coords[1], df.dropoff_lat, df.dropoff_long)\n",
    "    \n",
    "    df['pickup_ewr_distance'] = distance(ewr_coords[0], ewr_coords[1], df.pickup_lat, df.pickup_long)\n",
    "    df['dropoff_ewr_distance'] = distance(ewr_coords[0], ewr_coords[1], df.dropoff_lat, df.dropoff_long)\n",
    "    \n",
    "    df['pickup_lga_distance'] = distance(lga_coords[0], lga_coords[1], df.pickup_lat, df.pickup_long)\n",
    "    df['dropoff_lga_distance'] = distance(lga_coords[0], lga_coords[1], df.dropoff_lat, df.dropoff_long)\n",
    "    \n",
    "    return df"
   ]
  },
  {
   "cell_type": "code",
   "execution_count": 660,
   "id": "9db0c3cd",
   "metadata": {},
   "outputs": [],
   "source": [
    "def extra_features(df):\n",
    "    df[\"trip_duration\"] = (df[\"tpep_dropoff_datetime\"] - df[\"tpep_pickup_datetime\"]).astype(\"timedelta64[m]\")\n",
    "    df[\"day\"] = df[\"tpep_pickup_datetime\"].dt.day\n",
    "    df[\"month\"] = df[\"tpep_pickup_datetime\"].dt.month\n",
    "    df[\"year\"] = df[\"tpep_pickup_datetime\"].dt.year\n",
    "    df['day_of_week'] = df['tpep_pickup_datetime'].dt.weekday\n",
    "    df['hour'] = df['tpep_pickup_datetime'].dt.hour\n",
    "    df['store_and_fwd_flag'] = np.where(df['store_and_fwd_flag'] == 'Y', 1, 0)\n",
    "    df.drop([\"tpep_dropoff_datetime\", \"tpep_pickup_datetime\"], inplace=True, axis=1)\n",
    "    df['distance'] = df.apply(lambda x: distance(x[\"pickup_long\"],x[\"pickup_lat\"], x[\"dropoff_long\"], x[\"dropoff_lat\"]), axis=1)\n",
    "    add_distances_from_airport(df)\n",
    "    return df"
   ]
  },
  {
   "cell_type": "code",
   "execution_count": 661,
   "id": "33e17577",
   "metadata": {},
   "outputs": [],
   "source": [
    "data = ny_taxi_geo_merger(df, df_loc)\n",
    "data = extra_features(data)"
   ]
  },
  {
   "cell_type": "code",
   "execution_count": 662,
   "id": "e646841e",
   "metadata": {},
   "outputs": [
    {
     "data": {
      "text/html": [
       "<div>\n",
       "<style scoped>\n",
       "    .dataframe tbody tr th:only-of-type {\n",
       "        vertical-align: middle;\n",
       "    }\n",
       "\n",
       "    .dataframe tbody tr th {\n",
       "        vertical-align: top;\n",
       "    }\n",
       "\n",
       "    .dataframe thead th {\n",
       "        text-align: right;\n",
       "    }\n",
       "</style>\n",
       "<table border=\"1\" class=\"dataframe\">\n",
       "  <thead>\n",
       "    <tr style=\"text-align: right;\">\n",
       "      <th></th>\n",
       "      <th>VendorID</th>\n",
       "      <th>passenger_count</th>\n",
       "      <th>trip_distance</th>\n",
       "      <th>RatecodeID</th>\n",
       "      <th>store_and_fwd_flag</th>\n",
       "      <th>payment_type</th>\n",
       "      <th>fare_amount</th>\n",
       "      <th>extra</th>\n",
       "      <th>mta_tax</th>\n",
       "      <th>tip_amount</th>\n",
       "      <th>...</th>\n",
       "      <th>year</th>\n",
       "      <th>day_of_week</th>\n",
       "      <th>hour</th>\n",
       "      <th>distance</th>\n",
       "      <th>pickup_jfk_distance</th>\n",
       "      <th>dropoff_jfk_distance</th>\n",
       "      <th>pickup_ewr_distance</th>\n",
       "      <th>dropoff_ewr_distance</th>\n",
       "      <th>pickup_lga_distance</th>\n",
       "      <th>dropoff_lga_distance</th>\n",
       "    </tr>\n",
       "  </thead>\n",
       "  <tbody>\n",
       "    <tr>\n",
       "      <th>0</th>\n",
       "      <td>1</td>\n",
       "      <td>1.000</td>\n",
       "      <td>10.600</td>\n",
       "      <td>1.000</td>\n",
       "      <td>0</td>\n",
       "      <td>1</td>\n",
       "      <td>44.000</td>\n",
       "      <td>3.500</td>\n",
       "      <td>0.500</td>\n",
       "      <td>10.950</td>\n",
       "      <td>...</td>\n",
       "      <td>2022</td>\n",
       "      <td>2</td>\n",
       "      <td>17</td>\n",
       "      <td>11.606</td>\n",
       "      <td>17.014</td>\n",
       "      <td>21.312</td>\n",
       "      <td>26.511</td>\n",
       "      <td>17.668</td>\n",
       "      <td>0.276</td>\n",
       "      <td>9.106</td>\n",
       "    </tr>\n",
       "    <tr>\n",
       "      <th>1</th>\n",
       "      <td>2</td>\n",
       "      <td>2.000</td>\n",
       "      <td>1.460</td>\n",
       "      <td>1.000</td>\n",
       "      <td>0</td>\n",
       "      <td>1</td>\n",
       "      <td>8.500</td>\n",
       "      <td>0.000</td>\n",
       "      <td>0.500</td>\n",
       "      <td>1.000</td>\n",
       "      <td>...</td>\n",
       "      <td>2022</td>\n",
       "      <td>2</td>\n",
       "      <td>10</td>\n",
       "      <td>1.026</td>\n",
       "      <td>21.692</td>\n",
       "      <td>21.296</td>\n",
       "      <td>20.340</td>\n",
       "      <td>19.089</td>\n",
       "      <td>7.118</td>\n",
       "      <td>7.895</td>\n",
       "    </tr>\n",
       "    <tr>\n",
       "      <th>2</th>\n",
       "      <td>1</td>\n",
       "      <td>2.000</td>\n",
       "      <td>1.500</td>\n",
       "      <td>1.000</td>\n",
       "      <td>0</td>\n",
       "      <td>1</td>\n",
       "      <td>9.000</td>\n",
       "      <td>2.500</td>\n",
       "      <td>0.500</td>\n",
       "      <td>3.650</td>\n",
       "      <td>...</td>\n",
       "      <td>2022</td>\n",
       "      <td>0</td>\n",
       "      <td>12</td>\n",
       "      <td>3.088</td>\n",
       "      <td>23.271</td>\n",
       "      <td>21.208</td>\n",
       "      <td>18.966</td>\n",
       "      <td>20.698</td>\n",
       "      <td>8.970</td>\n",
       "      <td>6.605</td>\n",
       "    </tr>\n",
       "    <tr>\n",
       "      <th>3</th>\n",
       "      <td>2</td>\n",
       "      <td>1.000</td>\n",
       "      <td>0.550</td>\n",
       "      <td>1.000</td>\n",
       "      <td>0</td>\n",
       "      <td>1</td>\n",
       "      <td>4.500</td>\n",
       "      <td>1.000</td>\n",
       "      <td>0.500</td>\n",
       "      <td>1.000</td>\n",
       "      <td>...</td>\n",
       "      <td>2022</td>\n",
       "      <td>4</td>\n",
       "      <td>19</td>\n",
       "      <td>1.082</td>\n",
       "      <td>20.929</td>\n",
       "      <td>19.987</td>\n",
       "      <td>15.292</td>\n",
       "      <td>15.950</td>\n",
       "      <td>11.462</td>\n",
       "      <td>10.966</td>\n",
       "    </tr>\n",
       "    <tr>\n",
       "      <th>4</th>\n",
       "      <td>2</td>\n",
       "      <td>NaN</td>\n",
       "      <td>3.020</td>\n",
       "      <td>NaN</td>\n",
       "      <td>0</td>\n",
       "      <td>0</td>\n",
       "      <td>17.000</td>\n",
       "      <td>0.000</td>\n",
       "      <td>0.500</td>\n",
       "      <td>4.500</td>\n",
       "      <td>...</td>\n",
       "      <td>2022</td>\n",
       "      <td>5</td>\n",
       "      <td>17</td>\n",
       "      <td>1.010</td>\n",
       "      <td>23.107</td>\n",
       "      <td>21.057</td>\n",
       "      <td>16.727</td>\n",
       "      <td>15.930</td>\n",
       "      <td>10.454</td>\n",
       "      <td>10.749</td>\n",
       "    </tr>\n",
       "    <tr>\n",
       "      <th>...</th>\n",
       "      <td>...</td>\n",
       "      <td>...</td>\n",
       "      <td>...</td>\n",
       "      <td>...</td>\n",
       "      <td>...</td>\n",
       "      <td>...</td>\n",
       "      <td>...</td>\n",
       "      <td>...</td>\n",
       "      <td>...</td>\n",
       "      <td>...</td>\n",
       "      <td>...</td>\n",
       "      <td>...</td>\n",
       "      <td>...</td>\n",
       "      <td>...</td>\n",
       "      <td>...</td>\n",
       "      <td>...</td>\n",
       "      <td>...</td>\n",
       "      <td>...</td>\n",
       "      <td>...</td>\n",
       "      <td>...</td>\n",
       "      <td>...</td>\n",
       "    </tr>\n",
       "    <tr>\n",
       "      <th>178075</th>\n",
       "      <td>2</td>\n",
       "      <td>1.000</td>\n",
       "      <td>2.070</td>\n",
       "      <td>1.000</td>\n",
       "      <td>0</td>\n",
       "      <td>1</td>\n",
       "      <td>10.000</td>\n",
       "      <td>1.000</td>\n",
       "      <td>0.500</td>\n",
       "      <td>1.000</td>\n",
       "      <td>...</td>\n",
       "      <td>2022</td>\n",
       "      <td>3</td>\n",
       "      <td>18</td>\n",
       "      <td>1.404</td>\n",
       "      <td>22.409</td>\n",
       "      <td>23.271</td>\n",
       "      <td>16.949</td>\n",
       "      <td>18.966</td>\n",
       "      <td>10.015</td>\n",
       "      <td>8.970</td>\n",
       "    </tr>\n",
       "    <tr>\n",
       "      <th>178076</th>\n",
       "      <td>2</td>\n",
       "      <td>2.000</td>\n",
       "      <td>1.280</td>\n",
       "      <td>1.000</td>\n",
       "      <td>0</td>\n",
       "      <td>1</td>\n",
       "      <td>8.000</td>\n",
       "      <td>1.000</td>\n",
       "      <td>0.500</td>\n",
       "      <td>2.460</td>\n",
       "      <td>...</td>\n",
       "      <td>2022</td>\n",
       "      <td>0</td>\n",
       "      <td>17</td>\n",
       "      <td>0.643</td>\n",
       "      <td>22.669</td>\n",
       "      <td>21.312</td>\n",
       "      <td>18.169</td>\n",
       "      <td>17.668</td>\n",
       "      <td>9.183</td>\n",
       "      <td>9.106</td>\n",
       "    </tr>\n",
       "    <tr>\n",
       "      <th>178077</th>\n",
       "      <td>1</td>\n",
       "      <td>1.000</td>\n",
       "      <td>1.500</td>\n",
       "      <td>1.000</td>\n",
       "      <td>0</td>\n",
       "      <td>1</td>\n",
       "      <td>7.500</td>\n",
       "      <td>2.500</td>\n",
       "      <td>0.500</td>\n",
       "      <td>1.500</td>\n",
       "      <td>...</td>\n",
       "      <td>2022</td>\n",
       "      <td>5</td>\n",
       "      <td>8</td>\n",
       "      <td>1.097</td>\n",
       "      <td>23.537</td>\n",
       "      <td>22.669</td>\n",
       "      <td>19.840</td>\n",
       "      <td>18.169</td>\n",
       "      <td>8.611</td>\n",
       "      <td>9.183</td>\n",
       "    </tr>\n",
       "    <tr>\n",
       "      <th>178078</th>\n",
       "      <td>2</td>\n",
       "      <td>1.000</td>\n",
       "      <td>0.490</td>\n",
       "      <td>1.000</td>\n",
       "      <td>0</td>\n",
       "      <td>4</td>\n",
       "      <td>-4.500</td>\n",
       "      <td>0.000</td>\n",
       "      <td>-0.500</td>\n",
       "      <td>0.000</td>\n",
       "      <td>...</td>\n",
       "      <td>2022</td>\n",
       "      <td>3</td>\n",
       "      <td>11</td>\n",
       "      <td>1.026</td>\n",
       "      <td>21.208</td>\n",
       "      <td>20.798</td>\n",
       "      <td>20.698</td>\n",
       "      <td>19.464</td>\n",
       "      <td>6.605</td>\n",
       "      <td>7.419</td>\n",
       "    </tr>\n",
       "    <tr>\n",
       "      <th>178079</th>\n",
       "      <td>2</td>\n",
       "      <td>2.000</td>\n",
       "      <td>0.670</td>\n",
       "      <td>1.000</td>\n",
       "      <td>0</td>\n",
       "      <td>2</td>\n",
       "      <td>4.500</td>\n",
       "      <td>0.500</td>\n",
       "      <td>0.500</td>\n",
       "      <td>0.000</td>\n",
       "      <td>...</td>\n",
       "      <td>2022</td>\n",
       "      <td>3</td>\n",
       "      <td>0</td>\n",
       "      <td>0.348</td>\n",
       "      <td>21.573</td>\n",
       "      <td>20.942</td>\n",
       "      <td>14.810</td>\n",
       "      <td>14.546</td>\n",
       "      <td>11.886</td>\n",
       "      <td>12.355</td>\n",
       "    </tr>\n",
       "  </tbody>\n",
       "</table>\n",
       "<p>178080 rows × 32 columns</p>\n",
       "</div>"
      ],
      "text/plain": [
       "        VendorID  passenger_count  trip_distance  RatecodeID  \\\n",
       "0              1            1.000         10.600       1.000   \n",
       "1              2            2.000          1.460       1.000   \n",
       "2              1            2.000          1.500       1.000   \n",
       "3              2            1.000          0.550       1.000   \n",
       "4              2              NaN          3.020         NaN   \n",
       "...          ...              ...            ...         ...   \n",
       "178075         2            1.000          2.070       1.000   \n",
       "178076         2            2.000          1.280       1.000   \n",
       "178077         1            1.000          1.500       1.000   \n",
       "178078         2            1.000          0.490       1.000   \n",
       "178079         2            2.000          0.670       1.000   \n",
       "\n",
       "        store_and_fwd_flag  payment_type  fare_amount  extra  mta_tax  \\\n",
       "0                        0             1       44.000  3.500    0.500   \n",
       "1                        0             1        8.500  0.000    0.500   \n",
       "2                        0             1        9.000  2.500    0.500   \n",
       "3                        0             1        4.500  1.000    0.500   \n",
       "4                        0             0       17.000  0.000    0.500   \n",
       "...                    ...           ...          ...    ...      ...   \n",
       "178075                   0             1       10.000  1.000    0.500   \n",
       "178076                   0             1        8.000  1.000    0.500   \n",
       "178077                   0             1        7.500  2.500    0.500   \n",
       "178078                   0             4       -4.500  0.000   -0.500   \n",
       "178079                   0             2        4.500  0.500    0.500   \n",
       "\n",
       "        tip_amount  ...  year  day_of_week  hour  distance  \\\n",
       "0           10.950  ...  2022            2    17    11.606   \n",
       "1            1.000  ...  2022            2    10     1.026   \n",
       "2            3.650  ...  2022            0    12     3.088   \n",
       "3            1.000  ...  2022            4    19     1.082   \n",
       "4            4.500  ...  2022            5    17     1.010   \n",
       "...            ...  ...   ...          ...   ...       ...   \n",
       "178075       1.000  ...  2022            3    18     1.404   \n",
       "178076       2.460  ...  2022            0    17     0.643   \n",
       "178077       1.500  ...  2022            5     8     1.097   \n",
       "178078       0.000  ...  2022            3    11     1.026   \n",
       "178079       0.000  ...  2022            3     0     0.348   \n",
       "\n",
       "        pickup_jfk_distance  dropoff_jfk_distance  pickup_ewr_distance  \\\n",
       "0                    17.014                21.312               26.511   \n",
       "1                    21.692                21.296               20.340   \n",
       "2                    23.271                21.208               18.966   \n",
       "3                    20.929                19.987               15.292   \n",
       "4                    23.107                21.057               16.727   \n",
       "...                     ...                   ...                  ...   \n",
       "178075               22.409                23.271               16.949   \n",
       "178076               22.669                21.312               18.169   \n",
       "178077               23.537                22.669               19.840   \n",
       "178078               21.208                20.798               20.698   \n",
       "178079               21.573                20.942               14.810   \n",
       "\n",
       "        dropoff_ewr_distance  pickup_lga_distance  dropoff_lga_distance  \n",
       "0                     17.668                0.276                 9.106  \n",
       "1                     19.089                7.118                 7.895  \n",
       "2                     20.698                8.970                 6.605  \n",
       "3                     15.950               11.462                10.966  \n",
       "4                     15.930               10.454                10.749  \n",
       "...                      ...                  ...                   ...  \n",
       "178075                18.966               10.015                 8.970  \n",
       "178076                17.668                9.183                 9.106  \n",
       "178077                18.169                8.611                 9.183  \n",
       "178078                19.464                6.605                 7.419  \n",
       "178079                14.546               11.886                12.355  \n",
       "\n",
       "[178080 rows x 32 columns]"
      ]
     },
     "execution_count": 662,
     "metadata": {},
     "output_type": "execute_result"
    }
   ],
   "source": [
    "data"
   ]
  },
  {
   "cell_type": "markdown",
   "id": "a31b2ada",
   "metadata": {},
   "source": [
    "### Missing Values Analysis\n",
    "From the below, we can gather that a small portion of data is missing in some columns. \n",
    "these columns should have little to no effect on the prediction value.\n",
    "\n",
    "#### How to deal with the msising values?\n",
    "The options in general are:\n",
    "- drop the rows\n",
    "- impute\n",
    "- bfill/ffill\n",
    "- manual value assignment\n",
    "\n",
    "**the values can mostly be inferred.**\n",
    "- A passenger count has to be at least 1.\n",
    "- Ratecode can be stated as 1 if not mentioned otherwise (standard rate)\n",
    "- store_and-fwd_flag column can be dropped\n",
    "- congestion_surcharge: if missing then 0\n",
    "- airport_fee: if missing then 0"
   ]
  },
  {
   "cell_type": "code",
   "execution_count": 546,
   "id": "71b0c2ff",
   "metadata": {},
   "outputs": [
    {
     "data": {
      "text/plain": [
       "passenger_count         6597\n",
       "RatecodeID              6597\n",
       "store_and_fwd_flag      6597\n",
       "congestion_surcharge    6597\n",
       "airport_fee             6597\n",
       "dtype: int64"
      ]
     },
     "execution_count": 546,
     "metadata": {},
     "output_type": "execute_result"
    }
   ],
   "source": [
    "nulls = (df.isnull().sum()).loc[lambda x : x!=0]\n",
    "nulls"
   ]
  },
  {
   "cell_type": "code",
   "execution_count": 547,
   "id": "12bf06fb",
   "metadata": {},
   "outputs": [
    {
     "data": {
      "text/plain": [
       "passenger_count        3.708\n",
       "RatecodeID             3.708\n",
       "store_and_fwd_flag     3.708\n",
       "congestion_surcharge   3.708\n",
       "airport_fee            3.708\n",
       "dtype: float64"
      ]
     },
     "execution_count": 547,
     "metadata": {},
     "output_type": "execute_result"
    }
   ],
   "source": [
    "percentage_nulls = df.isnull().sum()/len(df)*100\n",
    "percentage_nulls.loc[lambda x : x!=0]"
   ]
  },
  {
   "cell_type": "code",
   "execution_count": 548,
   "id": "246a03de",
   "metadata": {},
   "outputs": [
    {
     "data": {
      "text/html": [
       "<div>\n",
       "<style scoped>\n",
       "    .dataframe tbody tr th:only-of-type {\n",
       "        vertical-align: middle;\n",
       "    }\n",
       "\n",
       "    .dataframe tbody tr th {\n",
       "        vertical-align: top;\n",
       "    }\n",
       "\n",
       "    .dataframe thead th {\n",
       "        text-align: right;\n",
       "    }\n",
       "</style>\n",
       "<table border=\"1\" class=\"dataframe\">\n",
       "  <thead>\n",
       "    <tr style=\"text-align: right;\">\n",
       "      <th></th>\n",
       "      <th>VendorID</th>\n",
       "      <th>passenger_count</th>\n",
       "      <th>trip_distance</th>\n",
       "      <th>RatecodeID</th>\n",
       "      <th>store_and_fwd_flag</th>\n",
       "      <th>payment_type</th>\n",
       "      <th>fare_amount</th>\n",
       "      <th>extra</th>\n",
       "      <th>mta_tax</th>\n",
       "      <th>tip_amount</th>\n",
       "      <th>...</th>\n",
       "      <th>pickup_lat</th>\n",
       "      <th>dropoff_long</th>\n",
       "      <th>dropoff_lat</th>\n",
       "      <th>trip_duration</th>\n",
       "      <th>day</th>\n",
       "      <th>month</th>\n",
       "      <th>year</th>\n",
       "      <th>day_of_week</th>\n",
       "      <th>hour</th>\n",
       "      <th>distance</th>\n",
       "    </tr>\n",
       "  </thead>\n",
       "  <tbody>\n",
       "    <tr>\n",
       "      <th>mean</th>\n",
       "      <td>1.714</td>\n",
       "      <td>1.394</td>\n",
       "      <td>6.099</td>\n",
       "      <td>1.425</td>\n",
       "      <td>0.012</td>\n",
       "      <td>1.182</td>\n",
       "      <td>15.146</td>\n",
       "      <td>1.024</td>\n",
       "      <td>0.488</td>\n",
       "      <td>2.799</td>\n",
       "      <td>...</td>\n",
       "      <td>40.751</td>\n",
       "      <td>-73.970</td>\n",
       "      <td>40.753</td>\n",
       "      <td>307.544</td>\n",
       "      <td>15.251</td>\n",
       "      <td>6.001</td>\n",
       "      <td>2021.997</td>\n",
       "      <td>2.918</td>\n",
       "      <td>14.168</td>\n",
       "      <td>3.450</td>\n",
       "    </tr>\n",
       "    <tr>\n",
       "      <th>min</th>\n",
       "      <td>1.000</td>\n",
       "      <td>0.000</td>\n",
       "      <td>0.000</td>\n",
       "      <td>1.000</td>\n",
       "      <td>0.000</td>\n",
       "      <td>0.000</td>\n",
       "      <td>-196.700</td>\n",
       "      <td>-4.500</td>\n",
       "      <td>-0.500</td>\n",
       "      <td>-6.860</td>\n",
       "      <td>...</td>\n",
       "      <td>40.527</td>\n",
       "      <td>-74.231</td>\n",
       "      <td>40.527</td>\n",
       "      <td>-1.000</td>\n",
       "      <td>1.000</td>\n",
       "      <td>5.000</td>\n",
       "      <td>2002.000</td>\n",
       "      <td>0.000</td>\n",
       "      <td>0.000</td>\n",
       "      <td>0.000</td>\n",
       "    </tr>\n",
       "    <tr>\n",
       "      <th>25%</th>\n",
       "      <td>1.000</td>\n",
       "      <td>1.000</td>\n",
       "      <td>1.130</td>\n",
       "      <td>1.000</td>\n",
       "      <td>0.000</td>\n",
       "      <td>1.000</td>\n",
       "      <td>7.000</td>\n",
       "      <td>0.000</td>\n",
       "      <td>0.500</td>\n",
       "      <td>1.000</td>\n",
       "      <td>...</td>\n",
       "      <td>40.740</td>\n",
       "      <td>-73.990</td>\n",
       "      <td>40.737</td>\n",
       "      <td>7.000</td>\n",
       "      <td>8.000</td>\n",
       "      <td>6.000</td>\n",
       "      <td>2022.000</td>\n",
       "      <td>1.000</td>\n",
       "      <td>10.000</td>\n",
       "      <td>0.984</td>\n",
       "    </tr>\n",
       "    <tr>\n",
       "      <th>75%</th>\n",
       "      <td>2.000</td>\n",
       "      <td>1.000</td>\n",
       "      <td>3.670</td>\n",
       "      <td>1.000</td>\n",
       "      <td>0.000</td>\n",
       "      <td>1.000</td>\n",
       "      <td>16.580</td>\n",
       "      <td>2.500</td>\n",
       "      <td>0.500</td>\n",
       "      <td>3.450</td>\n",
       "      <td>...</td>\n",
       "      <td>40.774</td>\n",
       "      <td>-73.960</td>\n",
       "      <td>40.774</td>\n",
       "      <td>20.000</td>\n",
       "      <td>23.000</td>\n",
       "      <td>6.000</td>\n",
       "      <td>2022.000</td>\n",
       "      <td>4.000</td>\n",
       "      <td>19.000</td>\n",
       "      <td>3.283</td>\n",
       "    </tr>\n",
       "    <tr>\n",
       "      <th>max</th>\n",
       "      <td>6.000</td>\n",
       "      <td>9.000</td>\n",
       "      <td>175350.330</td>\n",
       "      <td>99.000</td>\n",
       "      <td>1.000</td>\n",
       "      <td>4.000</td>\n",
       "      <td>6989.500</td>\n",
       "      <td>8.250</td>\n",
       "      <td>3.000</td>\n",
       "      <td>224.350</td>\n",
       "      <td>...</td>\n",
       "      <td>40.900</td>\n",
       "      <td>-73.714</td>\n",
       "      <td>40.900</td>\n",
       "      <td>10321948.000</td>\n",
       "      <td>31.000</td>\n",
       "      <td>10.000</td>\n",
       "      <td>2022.000</td>\n",
       "      <td>6.000</td>\n",
       "      <td>23.000</td>\n",
       "      <td>44.712</td>\n",
       "    </tr>\n",
       "  </tbody>\n",
       "</table>\n",
       "<p>5 rows × 26 columns</p>\n",
       "</div>"
      ],
      "text/plain": [
       "      VendorID  passenger_count  trip_distance  RatecodeID  \\\n",
       "mean     1.714            1.394          6.099       1.425   \n",
       "min      1.000            0.000          0.000       1.000   \n",
       "25%      1.000            1.000          1.130       1.000   \n",
       "75%      2.000            1.000          3.670       1.000   \n",
       "max      6.000            9.000     175350.330      99.000   \n",
       "\n",
       "      store_and_fwd_flag  payment_type  fare_amount  extra  mta_tax  \\\n",
       "mean               0.012         1.182       15.146  1.024    0.488   \n",
       "min                0.000         0.000     -196.700 -4.500   -0.500   \n",
       "25%                0.000         1.000        7.000  0.000    0.500   \n",
       "75%                0.000         1.000       16.580  2.500    0.500   \n",
       "max                1.000         4.000     6989.500  8.250    3.000   \n",
       "\n",
       "      tip_amount  ...  pickup_lat  dropoff_long  dropoff_lat  trip_duration  \\\n",
       "mean       2.799  ...      40.751       -73.970       40.753        307.544   \n",
       "min       -6.860  ...      40.527       -74.231       40.527         -1.000   \n",
       "25%        1.000  ...      40.740       -73.990       40.737          7.000   \n",
       "75%        3.450  ...      40.774       -73.960       40.774         20.000   \n",
       "max      224.350  ...      40.900       -73.714       40.900   10321948.000   \n",
       "\n",
       "        day  month     year  day_of_week   hour  distance  \n",
       "mean 15.251  6.001 2021.997        2.918 14.168     3.450  \n",
       "min   1.000  5.000 2002.000        0.000  0.000     0.000  \n",
       "25%   8.000  6.000 2022.000        1.000 10.000     0.984  \n",
       "75%  23.000  6.000 2022.000        4.000 19.000     3.283  \n",
       "max  31.000 10.000 2022.000        6.000 23.000    44.712  \n",
       "\n",
       "[5 rows x 26 columns]"
      ]
     },
     "execution_count": 548,
     "metadata": {},
     "output_type": "execute_result"
    }
   ],
   "source": [
    "df_stats = data.describe()\n",
    "df_stats.drop(labels=[\"count\", \"std\", \"50%\"])"
   ]
  },
  {
   "cell_type": "markdown",
   "id": "214a5d8d",
   "metadata": {},
   "source": [
    "## Exploring Range Of Values & Target Analysis\n",
    "from the describe above, we can see that min values include negative values for things like fare amount and tip amounts etc, which is unreasonable, it stands to reason to remove these. additionally, the maximum fare amount is also unreasonsable, so maybe setting a limit of 3 standard deviations would be best to avoid the effect of outliers and influencing points on the models."
   ]
  },
  {
   "cell_type": "code",
   "execution_count": 549,
   "id": "f4b89a72",
   "metadata": {},
   "outputs": [
    {
     "name": "stdout",
     "output_type": "stream",
     "text": [
      "<class 'pandas.core.frame.DataFrame'>\n",
      "Int64Index: 178080 entries, 0 to 178079\n",
      "Data columns (total 26 columns):\n",
      " #   Column                 Non-Null Count   Dtype  \n",
      "---  ------                 --------------   -----  \n",
      " 0   VendorID               178080 non-null  int64  \n",
      " 1   passenger_count        171477 non-null  float64\n",
      " 2   trip_distance          178080 non-null  float64\n",
      " 3   RatecodeID             171477 non-null  float64\n",
      " 4   store_and_fwd_flag     178080 non-null  int32  \n",
      " 5   payment_type           178080 non-null  int64  \n",
      " 6   fare_amount            178080 non-null  float64\n",
      " 7   extra                  178080 non-null  float64\n",
      " 8   mta_tax                178080 non-null  float64\n",
      " 9   tip_amount             178080 non-null  float64\n",
      " 10  tolls_amount           178080 non-null  float64\n",
      " 11  improvement_surcharge  178080 non-null  float64\n",
      " 12  total_amount           178080 non-null  float64\n",
      " 13  congestion_surcharge   171477 non-null  float64\n",
      " 14  airport_fee            171477 non-null  float64\n",
      " 15  pickup_long            175734 non-null  float64\n",
      " 16  pickup_lat             175734 non-null  float64\n",
      " 17  dropoff_long           176194 non-null  float64\n",
      " 18  dropoff_lat            176194 non-null  float64\n",
      " 19  trip_duration          178080 non-null  float64\n",
      " 20  day                    178080 non-null  int64  \n",
      " 21  month                  178080 non-null  int64  \n",
      " 22  year                   178080 non-null  int64  \n",
      " 23  day_of_week            178080 non-null  int64  \n",
      " 24  hour                   178080 non-null  int64  \n",
      " 25  distance               174900 non-null  float64\n",
      "dtypes: float64(18), int32(1), int64(7)\n",
      "memory usage: 36.0 MB\n"
     ]
    }
   ],
   "source": [
    "data.info()"
   ]
  },
  {
   "cell_type": "code",
   "execution_count": 550,
   "id": "eb7af2de",
   "metadata": {},
   "outputs": [
    {
     "data": {
      "text/plain": [
       "VendorID                    3\n",
       "passenger_count             9\n",
       "trip_distance            2736\n",
       "RatecodeID                  7\n",
       "store_and_fwd_flag          2\n",
       "payment_type                5\n",
       "fare_amount              3070\n",
       "extra                      25\n",
       "mta_tax                     6\n",
       "tip_amount               1985\n",
       "tolls_amount              173\n",
       "improvement_surcharge       3\n",
       "total_amount             6001\n",
       "congestion_surcharge        4\n",
       "airport_fee                 3\n",
       "pickup_long               229\n",
       "pickup_lat                229\n",
       "dropoff_long              253\n",
       "dropoff_lat               253\n",
       "trip_duration             251\n",
       "day                        31\n",
       "month                       4\n",
       "year                        2\n",
       "day_of_week                 7\n",
       "hour                       24\n",
       "distance                 6935\n",
       "dtype: int64"
      ]
     },
     "execution_count": 550,
     "metadata": {},
     "output_type": "execute_result"
    }
   ],
   "source": [
    "# some low cardinality columns which are categorical\n",
    "data.nunique()"
   ]
  },
  {
   "cell_type": "code",
   "execution_count": 551,
   "id": "4a6600ee",
   "metadata": {},
   "outputs": [
    {
     "data": {
      "text/plain": [
       "128"
      ]
     },
     "execution_count": 551,
     "metadata": {},
     "output_type": "execute_result"
    }
   ],
   "source": [
    "data.duplicated().sum()"
   ]
  },
  {
   "cell_type": "code",
   "execution_count": 552,
   "id": "db0d091d",
   "metadata": {},
   "outputs": [
    {
     "data": {
      "text/plain": [
       "VendorID                   int64\n",
       "passenger_count          float64\n",
       "trip_distance            float64\n",
       "RatecodeID               float64\n",
       "store_and_fwd_flag         int32\n",
       "payment_type               int64\n",
       "fare_amount              float64\n",
       "extra                    float64\n",
       "mta_tax                  float64\n",
       "tip_amount               float64\n",
       "tolls_amount             float64\n",
       "improvement_surcharge    float64\n",
       "total_amount             float64\n",
       "congestion_surcharge     float64\n",
       "airport_fee              float64\n",
       "pickup_long              float64\n",
       "pickup_lat               float64\n",
       "dropoff_long             float64\n",
       "dropoff_lat              float64\n",
       "trip_duration            float64\n",
       "day                        int64\n",
       "month                      int64\n",
       "year                       int64\n",
       "day_of_week                int64\n",
       "hour                       int64\n",
       "distance                 float64\n",
       "dtype: object"
      ]
     },
     "execution_count": 552,
     "metadata": {},
     "output_type": "execute_result"
    }
   ],
   "source": [
    "data.dtypes"
   ]
  },
  {
   "cell_type": "code",
   "execution_count": 553,
   "id": "3c734c07",
   "metadata": {},
   "outputs": [],
   "source": [
    "data = data.dropna()"
   ]
  },
  {
   "cell_type": "code",
   "execution_count": 554,
   "id": "d3de3244",
   "metadata": {},
   "outputs": [
    {
     "data": {
      "text/plain": [
       "(0.0, 8000.0)"
      ]
     },
     "execution_count": 554,
     "metadata": {},
     "output_type": "execute_result"
    },
    {
     "data": {
      "image/png": "[encoded data removed]",
      "text/plain": [
       "<Figure size 500x500 with 1 Axes>"
      ]
     },
     "metadata": {},
     "output_type": "display_data"
    }
   ],
   "source": [
    "sns.displot(data['fare_amount'])\n",
    "plt.xlim(0, 40)\n",
    "plt.ylim(0, 8000)"
   ]
  },
  {
   "cell_type": "markdown",
   "id": "d53662f6",
   "metadata": {},
   "source": [
    "it appears that the distribution is right tailed"
   ]
  },
  {
   "cell_type": "code",
   "execution_count": 555,
   "id": "528c4dcf",
   "metadata": {},
   "outputs": [
    {
     "name": "stdout",
     "output_type": "stream",
     "text": [
      "6989.5 -111.0\n"
     ]
    }
   ],
   "source": [
    "print(data.fare_amount.max(), data.fare_amount.min())"
   ]
  },
  {
   "cell_type": "code",
   "execution_count": 556,
   "id": "59bb3eb9",
   "metadata": {},
   "outputs": [],
   "source": [
    "num_columns = data._get_numeric_data().columns"
   ]
  },
  {
   "cell_type": "code",
   "execution_count": 557,
   "id": "5f6d5005",
   "metadata": {},
   "outputs": [],
   "source": [
    "#removing outliers to see effect on distribution\n",
    "from scipy import stats\n",
    "# for single column df[(np.abs(stats.zscore(df[0])) < 3)]\n",
    "data = data[(np.abs(stats.zscore(data[num_columns])) < 3).all(axis=1)]"
   ]
  },
  {
   "cell_type": "code",
   "execution_count": 558,
   "id": "37484833",
   "metadata": {},
   "outputs": [
    {
     "data": {
      "text/plain": [
       "(0.0, 8000.0)"
      ]
     },
     "execution_count": 558,
     "metadata": {},
     "output_type": "execute_result"
    },
    {
     "data": {
      "image/png": "[encoded data removed]",
      "text/plain": [
       "<Figure size 500x500 with 1 Axes>"
      ]
     },
     "metadata": {},
     "output_type": "display_data"
    }
   ],
   "source": [
    "#checking distribution after removal of outliers\n",
    "sns.displot(data['fare_amount'])\n",
    "plt.xlim(0, 40)\n",
    "plt.ylim(0, 8000)"
   ]
  },
  {
   "cell_type": "code",
   "execution_count": 559,
   "id": "f598f265",
   "metadata": {},
   "outputs": [
    {
     "data": {
      "text/plain": [
       "(0.0, 8000.0)"
      ]
     },
     "execution_count": 559,
     "metadata": {},
     "output_type": "execute_result"
    },
    {
     "data": {
      "image/png": "[encoded data removed]",
      "text/plain": [
       "<Figure size 500x500 with 1 Axes>"
      ]
     },
     "metadata": {},
     "output_type": "display_data"
    }
   ],
   "source": [
    "# does log transform help with it?\n",
    "log_target = np.log1p(data['fare_amount'])\n",
    "sns.displot(log_target)\n",
    "plt.xlim(0, 5)\n",
    "plt.ylim(0, 8000)\n",
    "# much better"
   ]
  },
  {
   "cell_type": "code",
   "execution_count": 560,
   "id": "70134965",
   "metadata": {},
   "outputs": [
    {
     "data": {
      "text/plain": [
       "7.500     6910\n",
       "7.000     6870\n",
       "6.500     6817\n",
       "8.000     6706\n",
       "6.000     6520\n",
       "          ... \n",
       "12.400       1\n",
       "29.880       1\n",
       "65.000       1\n",
       "13.740       1\n",
       "54.000       1\n",
       "Name: fare_amount, Length: 128, dtype: int64"
      ]
     },
     "execution_count": 560,
     "metadata": {},
     "output_type": "execute_result"
    }
   ],
   "source": [
    "data.fare_amount.value_counts()"
   ]
  },
  {
   "cell_type": "code",
   "execution_count": 561,
   "id": "7bc63458",
   "metadata": {},
   "outputs": [
    {
     "data": {
      "text/plain": [
       "10.851567258510201"
      ]
     },
     "execution_count": 561,
     "metadata": {},
     "output_type": "execute_result"
    }
   ],
   "source": [
    "data.fare_amount.mean()"
   ]
  },
  {
   "cell_type": "code",
   "execution_count": 562,
   "id": "d0d6141b",
   "metadata": {},
   "outputs": [
    {
     "data": {
      "text/plain": [
       "0"
      ]
     },
     "execution_count": 562,
     "metadata": {},
     "output_type": "execute_result"
    }
   ],
   "source": [
    "data.fare_amount.isna().sum()"
   ]
  },
  {
   "cell_type": "code",
   "execution_count": 196,
   "id": "927201d9",
   "metadata": {},
   "outputs": [
    {
     "data": {
      "image/png": "[encoded data removed]",
      "text/plain": [
       "<Figure size 640x480 with 1 Axes>"
      ]
     },
     "metadata": {},
     "output_type": "display_data"
    }
   ],
   "source": [
    "passenger_count = data.groupby(['passenger_count']).count()\n",
    "plt.plot(passenger_count.index, passenger_count['day'])\n",
    "plt.xlabel('Number of Passengers')\n",
    "plt.ylabel('Count')\n",
    "plt.show()"
   ]
  },
  {
   "cell_type": "markdown",
   "id": "6407cc18",
   "metadata": {},
   "source": [
    "Most trips were solo"
   ]
  },
  {
   "cell_type": "code",
   "execution_count": 194,
   "id": "a75afbfe",
   "metadata": {},
   "outputs": [
    {
     "data": {
      "text/plain": [
       "[<matplotlib.lines.Line2D at 0x26ca8e461c0>]"
      ]
     },
     "execution_count": 194,
     "metadata": {},
     "output_type": "execute_result"
    },
    {
     "data": {
      "image/png": "[encoded data removed]",
      "text/plain": [
       "<Figure size 640x480 with 1 Axes>"
      ]
     },
     "metadata": {},
     "output_type": "display_data"
    }
   ],
   "source": [
    "passenger_fare = data.groupby(['passenger_count']).mean(numeric_only=True)\n",
    "\n",
    "plt.plot(passenger_fare.index, passenger_fare['fare_amount'])"
   ]
  },
  {
   "cell_type": "markdown",
   "id": "509c39b2",
   "metadata": {},
   "source": [
    "doesnt grow much regardless of count - scale makes it look huge, but it is not"
   ]
  },
  {
   "cell_type": "code",
   "execution_count": 200,
   "id": "480f808e",
   "metadata": {},
   "outputs": [
    {
     "data": {
      "text/plain": [
       "Text(0, 0.5, 'Fare Price')"
      ]
     },
     "execution_count": 200,
     "metadata": {},
     "output_type": "execute_result"
    },
    {
     "data": {
      "image/png": "[encoded data removed]",
      "text/plain": [
       "<Figure size 640x480 with 1 Axes>"
      ]
     },
     "metadata": {},
     "output_type": "display_data"
    }
   ],
   "source": [
    "# day of week seems to play a part - will add \n",
    "# df['day_of_week'] = df['datecol'].dt.weekday\n",
    "# maybe hour too df['hour'] = df['datecol'].dt.hour\n",
    "day = data.groupby(['day']).mean(numeric_only=True)\n",
    "\n",
    "plt.plot(day.index, day.fare_amount)\n",
    "\n",
    "plt.xlabel('Day')\n",
    "plt.ylabel('Fare Price')"
   ]
  },
  {
   "cell_type": "code",
   "execution_count": 564,
   "id": "8de88e3b",
   "metadata": {},
   "outputs": [
    {
     "data": {
      "text/plain": [
       "Text(0, 0.5, 'Median fare amount')"
      ]
     },
     "execution_count": 564,
     "metadata": {},
     "output_type": "execute_result"
    },
    {
     "data": {
      "image/png": "[encoded data removed]",
      "text/plain": [
       "<Figure size 640x480 with 1 Axes>"
      ]
     },
     "metadata": {},
     "output_type": "display_data"
    }
   ],
   "source": [
    "hour_price = data.groupby('hour', as_index=False)['fare_amount'].median()\n",
    "sns.lineplot(data=hour_price, x=\"hour\", y=\"fare_amount\")\n",
    "plt.xlabel('Hour of the day')\n",
    "plt.ylabel('Median fare amount')"
   ]
  },
  {
   "cell_type": "code",
   "execution_count": 204,
   "id": "7e724e93",
   "metadata": {},
   "outputs": [
    {
     "data": {
      "text/plain": [
       "Text(0, 0.5, 'Fare Price')"
      ]
     },
     "execution_count": 204,
     "metadata": {},
     "output_type": "execute_result"
    },
    {
     "data": {
      "image/png": "[encoded data removed]",
      "text/plain": [
       "<Figure size 640x480 with 1 Axes>"
      ]
     },
     "metadata": {},
     "output_type": "display_data"
    }
   ],
   "source": [
    "trip_distance = data.groupby(['trip_distance']).mean(numeric_only=True)\n",
    "\n",
    "plt.plot(trip_distance.index, trip_distance.fare_amount)\n",
    "\n",
    "plt.xlabel('trip_distance')\n",
    "plt.ylabel('Fare Price')\n",
    "#0 and negative value trips should be removed"
   ]
  },
  {
   "cell_type": "code",
   "execution_count": 198,
   "id": "0d7e35cd",
   "metadata": {},
   "outputs": [
    {
     "data": {
      "text/plain": [
       "<seaborn.axisgrid.FacetGrid at 0x26ca8de01f0>"
      ]
     },
     "execution_count": 198,
     "metadata": {},
     "output_type": "execute_result"
    },
    {
     "data": {
      "image/png": "[encoded data removed]",
      "text/plain": [
       "<Figure size 500x500 with 2 Axes>"
      ]
     },
     "metadata": {},
     "output_type": "display_data"
    }
   ],
   "source": [
    "sns.displot(\n",
    "  data=data,\n",
    "  x='fare_amount',\n",
    "  col=\"payment_type\",\n",
    "  kind=\"hist\",\n",
    "  aspect=0.5,\n",
    ")"
   ]
  },
  {
   "cell_type": "code",
   "execution_count": 206,
   "id": "bde747fe",
   "metadata": {},
   "outputs": [
    {
     "data": {
      "image/png": "[encoded data removed]",
      "text/plain": [
       "<Figure size 640x480 with 1 Axes>"
      ]
     },
     "metadata": {},
     "output_type": "display_data"
    }
   ],
   "source": [
    "plt.hist(data['trip_duration'].values, bins=100)\n",
    "plt.xlabel('trip_duration')\n",
    "plt.ylabel('number of train records')\n",
    "plt.xlim(0,100)\n",
    "plt.show()\n",
    "#most trips under 30 minutes"
   ]
  },
  {
   "cell_type": "code",
   "execution_count": 567,
   "id": "f26e2dff",
   "metadata": {},
   "outputs": [
    {
     "data": {
      "image/png": "[encoded data removed]",
      "text/plain": [
       "<Figure size 640x480 with 1 Axes>"
      ]
     },
     "metadata": {},
     "output_type": "display_data"
    }
   ],
   "source": [
    "day_price = data.groupby('day_of_week', as_index=False)['fare_amount'].median()\n",
    "days = [\"Monday\", \"Tuesday\", \"Wednesday\", \"Thursday\", \"Friday\", \"Saturday\", \"Sunday\"]\n",
    "sns.lineplot(data=day_price, x=\"day_of_week\", y=\"fare_amount\")\n",
    "plt.xticks([0, 1, 2, 3, 4, 5, 6], days);"
   ]
  },
  {
   "cell_type": "markdown",
   "id": "14198a44",
   "metadata": {},
   "source": [
    "### Data Cleaning\n",
    "constraints:\n",
    "-  taxi standarad fares begin at $2.50\n",
    "- latitude and longitude should not be equal to 0 & are bounded by 90 and -90"
   ]
  },
  {
   "cell_type": "markdown",
   "id": "1cc9387a",
   "metadata": {},
   "source": [
    "#### Handling Missing Values"
   ]
  },
  {
   "cell_type": "code",
   "execution_count": 699,
   "id": "93300bc0",
   "metadata": {},
   "outputs": [],
   "source": [
    "def enforce_values(df):\n",
    "    \"\"\"\n",
    "    Removes outliers from the data\n",
    "    \"\"\"\n",
    "    df[\"trip_duration\"] = df[\"trip_duration\"][(df[\"trip_duration\"] > 0)]\n",
    "    df[\"passenger_count\"]= df[\"passenger_count\"][(df[\"passenger_count\"].isin(list(range(1,8))))]\n",
    "    df[\"VendorID\"] = df[\"VendorID\"][(df[\"VendorID\"].isin([0,1,2]))]\n",
    "    df[\"RatecodeID\"] = df[\"RatecodeID\"][(df[\"RatecodeID\"].isin([0,1,2,3,4,5,6]))]\n",
    "    df[\"payment_type\"] = df[\"payment_type\"][(df[\"payment_type\"].isin([1,2,3,4,5,6]))]\n",
    "    df = df[(df[\"fare_amount\"] < 250) & (df[\"fare_amount\"] >= 2.5)]\n",
    "    df = df[df['pickup_lat']!= 0]\n",
    "    df = df[df['pickup_long'] != 0]\n",
    "    df = df[df['dropoff_lat'] != 0]\n",
    "    df = df[df['dropoff_long'] != 0]\n",
    "    df.dropna(inplace=True)\n",
    "\n",
    "    return df\n",
    "\n",
    "\n",
    "def keep_important_cols(df):\n",
    "    cols = ['passenger_count','fare_amount', 'pickup_long', 'pickup_lat',\n",
    "       'dropoff_long', 'dropoff_lat', 'trip_duration', 'day', 'month', 'year',\n",
    "       'day_of_week', 'hour', 'distance', 'pickup_jfk_distance',\n",
    "       'dropoff_jfk_distance', 'pickup_ewr_distance', 'dropoff_ewr_distance',\n",
    "       'pickup_lga_distance', 'dropoff_lga_distance']\n",
    "    df = df[cols]\n",
    "    return df\n",
    "\n",
    "def data_splitter(df, target):\n",
    "    y = df[target]\n",
    "    X = df.drop([target], axis=1)\n",
    "    X_train, X_test, y_train, y_test = train_test_split(\n",
    "                X, y, random_state=1, test_size=0.3)\n",
    "    return X_train, X_test, y_train, y_test"
   ]
  },
  {
   "cell_type": "code",
   "execution_count": 682,
   "id": "037b33a8",
   "metadata": {},
   "outputs": [],
   "source": [
    "df = ny_taxi_geo_merger(df, df_loc)"
   ]
  },
  {
   "cell_type": "code",
   "execution_count": 683,
   "id": "0c4ee097",
   "metadata": {},
   "outputs": [],
   "source": [
    "df = extra_features(df)"
   ]
  },
  {
   "cell_type": "code",
   "execution_count": 696,
   "id": "03342d1f",
   "metadata": {},
   "outputs": [],
   "source": [
    "df = enforce_values(df)"
   ]
  },
  {
   "cell_type": "code",
   "execution_count": 700,
   "id": "3dacf5f9",
   "metadata": {},
   "outputs": [],
   "source": [
    "df = keep_important_cols(df)"
   ]
  },
  {
   "cell_type": "code",
   "execution_count": 697,
   "id": "e3a66964",
   "metadata": {},
   "outputs": [
    {
     "data": {
      "text/plain": [
       "Series([], dtype: int64)"
      ]
     },
     "execution_count": 697,
     "metadata": {},
     "output_type": "execute_result"
    }
   ],
   "source": [
    "nulls = (df.isnull().sum()).loc[lambda x : x!=0]\n",
    "nulls"
   ]
  },
  {
   "cell_type": "code",
   "execution_count": 701,
   "id": "b0676d81",
   "metadata": {},
   "outputs": [
    {
     "data": {
      "text/html": [
       "<div>\n",
       "<style scoped>\n",
       "    .dataframe tbody tr th:only-of-type {\n",
       "        vertical-align: middle;\n",
       "    }\n",
       "\n",
       "    .dataframe tbody tr th {\n",
       "        vertical-align: top;\n",
       "    }\n",
       "\n",
       "    .dataframe thead th {\n",
       "        text-align: right;\n",
       "    }\n",
       "</style>\n",
       "<table border=\"1\" class=\"dataframe\">\n",
       "  <thead>\n",
       "    <tr style=\"text-align: right;\">\n",
       "      <th></th>\n",
       "      <th>passenger_count</th>\n",
       "      <th>fare_amount</th>\n",
       "      <th>pickup_long</th>\n",
       "      <th>pickup_lat</th>\n",
       "      <th>dropoff_long</th>\n",
       "      <th>dropoff_lat</th>\n",
       "      <th>trip_duration</th>\n",
       "      <th>day</th>\n",
       "      <th>month</th>\n",
       "      <th>year</th>\n",
       "      <th>day_of_week</th>\n",
       "      <th>hour</th>\n",
       "      <th>distance</th>\n",
       "      <th>pickup_jfk_distance</th>\n",
       "      <th>dropoff_jfk_distance</th>\n",
       "      <th>pickup_ewr_distance</th>\n",
       "      <th>dropoff_ewr_distance</th>\n",
       "      <th>pickup_lga_distance</th>\n",
       "      <th>dropoff_lga_distance</th>\n",
       "    </tr>\n",
       "  </thead>\n",
       "  <tbody>\n",
       "    <tr>\n",
       "      <th>0</th>\n",
       "      <td>1.000</td>\n",
       "      <td>7.000</td>\n",
       "      <td>-73.997</td>\n",
       "      <td>40.729</td>\n",
       "      <td>-73.986</td>\n",
       "      <td>40.749</td>\n",
       "      <td>8.000</td>\n",
       "      <td>8</td>\n",
       "      <td>6</td>\n",
       "      <td>2022</td>\n",
       "      <td>2</td>\n",
       "      <td>18</td>\n",
       "      <td>1.426</td>\n",
       "      <td>20.895</td>\n",
       "      <td>21.263</td>\n",
       "      <td>14.999</td>\n",
       "      <td>16.656</td>\n",
       "      <td>11.813</td>\n",
       "      <td>10.028</td>\n",
       "    </tr>\n",
       "    <tr>\n",
       "      <th>1</th>\n",
       "      <td>1.000</td>\n",
       "      <td>21.000</td>\n",
       "      <td>-73.972</td>\n",
       "      <td>40.757</td>\n",
       "      <td>-73.894</td>\n",
       "      <td>40.740</td>\n",
       "      <td>26.000</td>\n",
       "      <td>21</td>\n",
       "      <td>6</td>\n",
       "      <td>2022</td>\n",
       "      <td>1</td>\n",
       "      <td>9</td>\n",
       "      <td>8.756</td>\n",
       "      <td>20.885</td>\n",
       "      <td>14.794</td>\n",
       "      <td>18.016</td>\n",
       "      <td>23.760</td>\n",
       "      <td>8.713</td>\n",
       "      <td>4.498</td>\n",
       "    </tr>\n",
       "    <tr>\n",
       "      <th>2</th>\n",
       "      <td>1.000</td>\n",
       "      <td>8.000</td>\n",
       "      <td>-73.973</td>\n",
       "      <td>40.792</td>\n",
       "      <td>-73.988</td>\n",
       "      <td>40.776</td>\n",
       "      <td>9.000</td>\n",
       "      <td>8</td>\n",
       "      <td>6</td>\n",
       "      <td>2022</td>\n",
       "      <td>2</td>\n",
       "      <td>14</td>\n",
       "      <td>1.785</td>\n",
       "      <td>23.537</td>\n",
       "      <td>23.265</td>\n",
       "      <td>19.840</td>\n",
       "      <td>17.787</td>\n",
       "      <td>8.611</td>\n",
       "      <td>9.759</td>\n",
       "    </tr>\n",
       "    <tr>\n",
       "      <th>3</th>\n",
       "      <td>1.000</td>\n",
       "      <td>14.500</td>\n",
       "      <td>-73.973</td>\n",
       "      <td>40.792</td>\n",
       "      <td>-74.000</td>\n",
       "      <td>40.748</td>\n",
       "      <td>19.000</td>\n",
       "      <td>13</td>\n",
       "      <td>6</td>\n",
       "      <td>2022</td>\n",
       "      <td>0</td>\n",
       "      <td>15</td>\n",
       "      <td>3.273</td>\n",
       "      <td>23.537</td>\n",
       "      <td>22.219</td>\n",
       "      <td>19.840</td>\n",
       "      <td>15.522</td>\n",
       "      <td>8.611</td>\n",
       "      <td>11.194</td>\n",
       "    </tr>\n",
       "    <tr>\n",
       "      <th>4</th>\n",
       "      <td>1.000</td>\n",
       "      <td>12.500</td>\n",
       "      <td>-73.995</td>\n",
       "      <td>40.732</td>\n",
       "      <td>-73.985</td>\n",
       "      <td>40.695</td>\n",
       "      <td>16.000</td>\n",
       "      <td>4</td>\n",
       "      <td>6</td>\n",
       "      <td>2022</td>\n",
       "      <td>5</td>\n",
       "      <td>18</td>\n",
       "      <td>1.561</td>\n",
       "      <td>20.929</td>\n",
       "      <td>18.481</td>\n",
       "      <td>15.292</td>\n",
       "      <td>15.463</td>\n",
       "      <td>11.462</td>\n",
       "      <td>13.160</td>\n",
       "    </tr>\n",
       "    <tr>\n",
       "      <th>...</th>\n",
       "      <td>...</td>\n",
       "      <td>...</td>\n",
       "      <td>...</td>\n",
       "      <td>...</td>\n",
       "      <td>...</td>\n",
       "      <td>...</td>\n",
       "      <td>...</td>\n",
       "      <td>...</td>\n",
       "      <td>...</td>\n",
       "      <td>...</td>\n",
       "      <td>...</td>\n",
       "      <td>...</td>\n",
       "      <td>...</td>\n",
       "      <td>...</td>\n",
       "      <td>...</td>\n",
       "      <td>...</td>\n",
       "      <td>...</td>\n",
       "      <td>...</td>\n",
       "      <td>...</td>\n",
       "    </tr>\n",
       "    <tr>\n",
       "      <th>178095</th>\n",
       "      <td>3.000</td>\n",
       "      <td>6.500</td>\n",
       "      <td>-74.004</td>\n",
       "      <td>40.752</td>\n",
       "      <td>-73.990</td>\n",
       "      <td>40.762</td>\n",
       "      <td>7.000</td>\n",
       "      <td>18</td>\n",
       "      <td>6</td>\n",
       "      <td>2022</td>\n",
       "      <td>5</td>\n",
       "      <td>12</td>\n",
       "      <td>1.583</td>\n",
       "      <td>22.736</td>\n",
       "      <td>22.409</td>\n",
       "      <td>15.408</td>\n",
       "      <td>16.949</td>\n",
       "      <td>11.393</td>\n",
       "      <td>10.015</td>\n",
       "    </tr>\n",
       "    <tr>\n",
       "      <th>178096</th>\n",
       "      <td>6.000</td>\n",
       "      <td>8.500</td>\n",
       "      <td>-73.965</td>\n",
       "      <td>40.757</td>\n",
       "      <td>-73.957</td>\n",
       "      <td>40.780</td>\n",
       "      <td>8.000</td>\n",
       "      <td>25</td>\n",
       "      <td>6</td>\n",
       "      <td>2022</td>\n",
       "      <td>5</td>\n",
       "      <td>14</td>\n",
       "      <td>1.152</td>\n",
       "      <td>20.378</td>\n",
       "      <td>21.692</td>\n",
       "      <td>18.585</td>\n",
       "      <td>20.340</td>\n",
       "      <td>8.116</td>\n",
       "      <td>7.118</td>\n",
       "    </tr>\n",
       "    <tr>\n",
       "      <th>178097</th>\n",
       "      <td>1.000</td>\n",
       "      <td>5.000</td>\n",
       "      <td>-74.000</td>\n",
       "      <td>40.748</td>\n",
       "      <td>-74.000</td>\n",
       "      <td>40.748</td>\n",
       "      <td>3.000</td>\n",
       "      <td>28</td>\n",
       "      <td>6</td>\n",
       "      <td>2022</td>\n",
       "      <td>1</td>\n",
       "      <td>17</td>\n",
       "      <td>0.000</td>\n",
       "      <td>22.219</td>\n",
       "      <td>22.219</td>\n",
       "      <td>15.522</td>\n",
       "      <td>15.522</td>\n",
       "      <td>11.194</td>\n",
       "      <td>11.194</td>\n",
       "    </tr>\n",
       "    <tr>\n",
       "      <th>178098</th>\n",
       "      <td>1.000</td>\n",
       "      <td>18.000</td>\n",
       "      <td>-73.988</td>\n",
       "      <td>40.776</td>\n",
       "      <td>-73.978</td>\n",
       "      <td>40.748</td>\n",
       "      <td>28.000</td>\n",
       "      <td>8</td>\n",
       "      <td>6</td>\n",
       "      <td>2022</td>\n",
       "      <td>2</td>\n",
       "      <td>17</td>\n",
       "      <td>1.479</td>\n",
       "      <td>23.265</td>\n",
       "      <td>20.623</td>\n",
       "      <td>17.787</td>\n",
       "      <td>17.231</td>\n",
       "      <td>9.759</td>\n",
       "      <td>9.439</td>\n",
       "    </tr>\n",
       "    <tr>\n",
       "      <th>178100</th>\n",
       "      <td>1.000</td>\n",
       "      <td>10.500</td>\n",
       "      <td>-73.978</td>\n",
       "      <td>40.758</td>\n",
       "      <td>-73.957</td>\n",
       "      <td>40.780</td>\n",
       "      <td>13.000</td>\n",
       "      <td>7</td>\n",
       "      <td>6</td>\n",
       "      <td>2022</td>\n",
       "      <td>1</td>\n",
       "      <td>10</td>\n",
       "      <td>2.400</td>\n",
       "      <td>21.312</td>\n",
       "      <td>21.692</td>\n",
       "      <td>17.668</td>\n",
       "      <td>20.340</td>\n",
       "      <td>9.106</td>\n",
       "      <td>7.118</td>\n",
       "    </tr>\n",
       "  </tbody>\n",
       "</table>\n",
       "<p>161640 rows × 19 columns</p>\n",
       "</div>"
      ],
      "text/plain": [
       "        passenger_count  fare_amount  pickup_long  pickup_lat  dropoff_long  \\\n",
       "0                 1.000        7.000      -73.997      40.729       -73.986   \n",
       "1                 1.000       21.000      -73.972      40.757       -73.894   \n",
       "2                 1.000        8.000      -73.973      40.792       -73.988   \n",
       "3                 1.000       14.500      -73.973      40.792       -74.000   \n",
       "4                 1.000       12.500      -73.995      40.732       -73.985   \n",
       "...                 ...          ...          ...         ...           ...   \n",
       "178095            3.000        6.500      -74.004      40.752       -73.990   \n",
       "178096            6.000        8.500      -73.965      40.757       -73.957   \n",
       "178097            1.000        5.000      -74.000      40.748       -74.000   \n",
       "178098            1.000       18.000      -73.988      40.776       -73.978   \n",
       "178100            1.000       10.500      -73.978      40.758       -73.957   \n",
       "\n",
       "        dropoff_lat  trip_duration  day  month  year  day_of_week  hour  \\\n",
       "0            40.749          8.000    8      6  2022            2    18   \n",
       "1            40.740         26.000   21      6  2022            1     9   \n",
       "2            40.776          9.000    8      6  2022            2    14   \n",
       "3            40.748         19.000   13      6  2022            0    15   \n",
       "4            40.695         16.000    4      6  2022            5    18   \n",
       "...             ...            ...  ...    ...   ...          ...   ...   \n",
       "178095       40.762          7.000   18      6  2022            5    12   \n",
       "178096       40.780          8.000   25      6  2022            5    14   \n",
       "178097       40.748          3.000   28      6  2022            1    17   \n",
       "178098       40.748         28.000    8      6  2022            2    17   \n",
       "178100       40.780         13.000    7      6  2022            1    10   \n",
       "\n",
       "        distance  pickup_jfk_distance  dropoff_jfk_distance  \\\n",
       "0          1.426               20.895                21.263   \n",
       "1          8.756               20.885                14.794   \n",
       "2          1.785               23.537                23.265   \n",
       "3          3.273               23.537                22.219   \n",
       "4          1.561               20.929                18.481   \n",
       "...          ...                  ...                   ...   \n",
       "178095     1.583               22.736                22.409   \n",
       "178096     1.152               20.378                21.692   \n",
       "178097     0.000               22.219                22.219   \n",
       "178098     1.479               23.265                20.623   \n",
       "178100     2.400               21.312                21.692   \n",
       "\n",
       "        pickup_ewr_distance  dropoff_ewr_distance  pickup_lga_distance  \\\n",
       "0                    14.999                16.656               11.813   \n",
       "1                    18.016                23.760                8.713   \n",
       "2                    19.840                17.787                8.611   \n",
       "3                    19.840                15.522                8.611   \n",
       "4                    15.292                15.463               11.462   \n",
       "...                     ...                   ...                  ...   \n",
       "178095               15.408                16.949               11.393   \n",
       "178096               18.585                20.340                8.116   \n",
       "178097               15.522                15.522               11.194   \n",
       "178098               17.787                17.231                9.759   \n",
       "178100               17.668                20.340                9.106   \n",
       "\n",
       "        dropoff_lga_distance  \n",
       "0                     10.028  \n",
       "1                      4.498  \n",
       "2                      9.759  \n",
       "3                     11.194  \n",
       "4                     13.160  \n",
       "...                      ...  \n",
       "178095                10.015  \n",
       "178096                 7.118  \n",
       "178097                11.194  \n",
       "178098                 9.439  \n",
       "178100                 7.118  \n",
       "\n",
       "[161640 rows x 19 columns]"
      ]
     },
     "execution_count": 701,
     "metadata": {},
     "output_type": "execute_result"
    }
   ],
   "source": [
    "df"
   ]
  },
  {
   "cell_type": "markdown",
   "id": "95804303",
   "metadata": {},
   "source": [
    "### Modeling & Feature Analysis\n",
    "First we will train some models, and assess feature importance, and then we will play with model parameters after adjusting the features"
   ]
  },
  {
   "cell_type": "code",
   "execution_count": 399,
   "id": "07434c2d",
   "metadata": {},
   "outputs": [],
   "source": [
    "from sklearn.model_selection import train_test_split\n",
    "from sklearn import metrics\n",
    "from sklearn.feature_extraction import DictVectorizer\n",
    "from sklearn.linear_model import LinearRegression\n",
    "from imblearn.pipeline import Pipeline\n",
    "from sklearn.model_selection import cross_val_score\n",
    "from sklearn.ensemble import GradientBoostingRegressor\n",
    "from sklearn.ensemble import RandomForestRegressor\n",
    "from sklearn.model_selection import GridSearchCV\n",
    "from sklearn.preprocessing import StandardScaler\n",
    "from sklearn import set_config\n",
    "from sklearn.decomposition import PCA\n",
    "set_config(display='diagram')"
   ]
  },
  {
   "cell_type": "code",
   "execution_count": 861,
   "id": "fce9ecbd",
   "metadata": {},
   "outputs": [],
   "source": [
    "ordinal_columns = [\"month\", \"day_of_week\", \"passenger_count\"]\n",
    "\n",
    "def reset_data(frac=0.05):\n",
    "    df = pd.read_parquet('yellow_tripdata_2022-06.parquet')\n",
    "    df = df.sample(frac=frac)\n",
    "    df = ny_taxi_geo_merger(df, df_loc)\n",
    "    df = extra_features(df)\n",
    "    df = enforce_values(df)\n",
    "    df = impute_cols(df)\n",
    "    df = keep_important_cols(df)\n",
    "    X_train, X_test, y_train, y_test = data_splitter(df, \"fare_amount\")\n",
    "    return X_train, X_test, y_train, y_test"
   ]
  },
  {
   "cell_type": "markdown",
   "id": "d94b3a5a",
   "metadata": {},
   "source": [
    "#### Baseline Models"
   ]
  },
  {
   "cell_type": "code",
   "execution_count": 764,
   "id": "049be6e9",
   "metadata": {},
   "outputs": [],
   "source": [
    "scores = pd.DataFrame(columns=['model', 'RMSE', 'score'])\n",
    "def train_model(model):\n",
    "    X_train, X_test, y_train, y_test = reset_data()\n",
    "    model.fit(X_train, y_train)\n",
    "    y_pred = model.predict(X_test)\n",
    "    rmse = np.sqrt(mean_squared_error(y_test, y_pred))\n",
    "    score = model.score(X_test, y_pred)\n",
    "    row = [str(model), rmse, score]\n",
    "    scores.loc[len(scores)] = row\n",
    "    return model"
   ]
  },
  {
   "cell_type": "markdown",
   "id": "94fa5286",
   "metadata": {},
   "source": [
    "#### Linear Regression"
   ]
  },
  {
   "cell_type": "code",
   "execution_count": 767,
   "id": "51d9b78f",
   "metadata": {},
   "outputs": [],
   "source": [
    "lr = train_model(LinearRegression())"
   ]
  },
  {
   "cell_type": "code",
   "execution_count": 763,
   "id": "66fbf92f",
   "metadata": {},
   "outputs": [
    {
     "data": {
      "text/html": [
       "<div>\n",
       "<style scoped>\n",
       "    .dataframe tbody tr th:only-of-type {\n",
       "        vertical-align: middle;\n",
       "    }\n",
       "\n",
       "    .dataframe tbody tr th {\n",
       "        vertical-align: top;\n",
       "    }\n",
       "\n",
       "    .dataframe thead th {\n",
       "        text-align: right;\n",
       "    }\n",
       "</style>\n",
       "<table border=\"1\" class=\"dataframe\">\n",
       "  <thead>\n",
       "    <tr style=\"text-align: right;\">\n",
       "      <th></th>\n",
       "      <th>Feature</th>\n",
       "      <th>Coefficients</th>\n",
       "    </tr>\n",
       "  </thead>\n",
       "  <tbody>\n",
       "    <tr>\n",
       "      <th>0</th>\n",
       "      <td>passenger_count</td>\n",
       "      <td>0.104</td>\n",
       "    </tr>\n",
       "    <tr>\n",
       "      <th>1</th>\n",
       "      <td>pickup_long</td>\n",
       "      <td>0.104</td>\n",
       "    </tr>\n",
       "    <tr>\n",
       "      <th>2</th>\n",
       "      <td>pickup_lat</td>\n",
       "      <td>0.104</td>\n",
       "    </tr>\n",
       "    <tr>\n",
       "      <th>3</th>\n",
       "      <td>dropoff_long</td>\n",
       "      <td>0.104</td>\n",
       "    </tr>\n",
       "    <tr>\n",
       "      <th>4</th>\n",
       "      <td>dropoff_lat</td>\n",
       "      <td>0.104</td>\n",
       "    </tr>\n",
       "    <tr>\n",
       "      <th>5</th>\n",
       "      <td>trip_duration</td>\n",
       "      <td>0.104</td>\n",
       "    </tr>\n",
       "    <tr>\n",
       "      <th>6</th>\n",
       "      <td>day</td>\n",
       "      <td>0.104</td>\n",
       "    </tr>\n",
       "    <tr>\n",
       "      <th>7</th>\n",
       "      <td>month</td>\n",
       "      <td>0.104</td>\n",
       "    </tr>\n",
       "    <tr>\n",
       "      <th>8</th>\n",
       "      <td>year</td>\n",
       "      <td>0.104</td>\n",
       "    </tr>\n",
       "    <tr>\n",
       "      <th>9</th>\n",
       "      <td>day_of_week</td>\n",
       "      <td>0.104</td>\n",
       "    </tr>\n",
       "    <tr>\n",
       "      <th>10</th>\n",
       "      <td>hour</td>\n",
       "      <td>0.104</td>\n",
       "    </tr>\n",
       "    <tr>\n",
       "      <th>11</th>\n",
       "      <td>distance</td>\n",
       "      <td>0.104</td>\n",
       "    </tr>\n",
       "    <tr>\n",
       "      <th>12</th>\n",
       "      <td>pickup_jfk_distance</td>\n",
       "      <td>0.104</td>\n",
       "    </tr>\n",
       "    <tr>\n",
       "      <th>13</th>\n",
       "      <td>dropoff_jfk_distance</td>\n",
       "      <td>0.104</td>\n",
       "    </tr>\n",
       "    <tr>\n",
       "      <th>14</th>\n",
       "      <td>pickup_ewr_distance</td>\n",
       "      <td>0.104</td>\n",
       "    </tr>\n",
       "    <tr>\n",
       "      <th>15</th>\n",
       "      <td>dropoff_ewr_distance</td>\n",
       "      <td>0.104</td>\n",
       "    </tr>\n",
       "    <tr>\n",
       "      <th>16</th>\n",
       "      <td>pickup_lga_distance</td>\n",
       "      <td>0.104</td>\n",
       "    </tr>\n",
       "    <tr>\n",
       "      <th>17</th>\n",
       "      <td>dropoff_lga_distance</td>\n",
       "      <td>0.104</td>\n",
       "    </tr>\n",
       "  </tbody>\n",
       "</table>\n",
       "</div>"
      ],
      "text/plain": [
       "                 Feature  Coefficients\n",
       "0        passenger_count         0.104\n",
       "1            pickup_long         0.104\n",
       "2             pickup_lat         0.104\n",
       "3           dropoff_long         0.104\n",
       "4            dropoff_lat         0.104\n",
       "5          trip_duration         0.104\n",
       "6                    day         0.104\n",
       "7                  month         0.104\n",
       "8                   year         0.104\n",
       "9            day_of_week         0.104\n",
       "10                  hour         0.104\n",
       "11              distance         0.104\n",
       "12   pickup_jfk_distance         0.104\n",
       "13  dropoff_jfk_distance         0.104\n",
       "14   pickup_ewr_distance         0.104\n",
       "15  dropoff_ewr_distance         0.104\n",
       "16   pickup_lga_distance         0.104\n",
       "17  dropoff_lga_distance         0.104"
      ]
     },
     "execution_count": 763,
     "metadata": {},
     "output_type": "execute_result"
    }
   ],
   "source": [
    "pd.DataFrame({\"Feature\":X_train.columns.tolist(),\"Coefficients\":lr.coef_[0]})"
   ]
  },
  {
   "cell_type": "markdown",
   "id": "870b9e2d",
   "metadata": {},
   "source": [
    "#### RandomForestRegressor"
   ]
  },
  {
   "cell_type": "code",
   "execution_count": 765,
   "id": "77e11677",
   "metadata": {},
   "outputs": [],
   "source": [
    "rf = train_model(RandomForestRegressor())"
   ]
  },
  {
   "cell_type": "code",
   "execution_count": 768,
   "id": "13d89b57",
   "metadata": {},
   "outputs": [
    {
     "data": {
      "text/html": [
       "<div>\n",
       "<style scoped>\n",
       "    .dataframe tbody tr th:only-of-type {\n",
       "        vertical-align: middle;\n",
       "    }\n",
       "\n",
       "    .dataframe tbody tr th {\n",
       "        vertical-align: top;\n",
       "    }\n",
       "\n",
       "    .dataframe thead th {\n",
       "        text-align: right;\n",
       "    }\n",
       "</style>\n",
       "<table border=\"1\" class=\"dataframe\">\n",
       "  <thead>\n",
       "    <tr style=\"text-align: right;\">\n",
       "      <th></th>\n",
       "      <th>model</th>\n",
       "      <th>RMSE</th>\n",
       "      <th></th>\n",
       "    </tr>\n",
       "  </thead>\n",
       "  <tbody>\n",
       "    <tr>\n",
       "      <th>0</th>\n",
       "      <td>RandomForestRegressor()</td>\n",
       "      <td>2.736</td>\n",
       "      <td>1.000</td>\n",
       "    </tr>\n",
       "    <tr>\n",
       "      <th>1</th>\n",
       "      <td>LinearRegression()</td>\n",
       "      <td>4.799</td>\n",
       "      <td>1.000</td>\n",
       "    </tr>\n",
       "  </tbody>\n",
       "</table>\n",
       "</div>"
      ],
      "text/plain": [
       "                     model  RMSE      \n",
       "0  RandomForestRegressor() 2.736 1.000\n",
       "1       LinearRegression() 4.799 1.000"
      ]
     },
     "execution_count": 768,
     "metadata": {},
     "output_type": "execute_result"
    }
   ],
   "source": [
    "scores"
   ]
  },
  {
   "cell_type": "code",
   "execution_count": 772,
   "id": "936c59d2",
   "metadata": {},
   "outputs": [
    {
     "data": {
      "image/png": "[encoded data removed]",
      "text/plain": [
       "<Figure size 640x480 with 1 Axes>"
      ]
     },
     "metadata": {},
     "output_type": "display_data"
    }
   ],
   "source": [
    "feature_importance = rf.feature_importances_[:5]\n",
    "feature_importance = 100.0 * (feature_importance / feature_importance.max())\n",
    "sorted_idx = np.argsort(feature_importance)\n",
    "pos = np.arange(sorted_idx.shape[0]) + .5\n",
    "plt.subplot(1, 2, 2)\n",
    "plt.barh(pos, feature_importance[sorted_idx], align='center')\n",
    "plt.yticks(pos, X_train.columns[sorted_idx]) \n",
    "plt.xlabel('Relative Importance')\n",
    "plt.ylabel('Features')\n",
    "plt.title('Variable Importance for Random Forest')\n",
    "plt.show()"
   ]
  },
  {
   "cell_type": "markdown",
   "id": "0b3f32c7",
   "metadata": {},
   "source": [
    "#### GradientBoostingRegressor"
   ]
  },
  {
   "cell_type": "code",
   "execution_count": 773,
   "id": "d31b1580",
   "metadata": {},
   "outputs": [],
   "source": [
    "GBR = train_model(GradientBoostingRegressor())"
   ]
  },
  {
   "cell_type": "code",
   "execution_count": 774,
   "id": "24489c8a",
   "metadata": {},
   "outputs": [
    {
     "data": {
      "text/html": [
       "<div>\n",
       "<style scoped>\n",
       "    .dataframe tbody tr th:only-of-type {\n",
       "        vertical-align: middle;\n",
       "    }\n",
       "\n",
       "    .dataframe tbody tr th {\n",
       "        vertical-align: top;\n",
       "    }\n",
       "\n",
       "    .dataframe thead th {\n",
       "        text-align: right;\n",
       "    }\n",
       "</style>\n",
       "<table border=\"1\" class=\"dataframe\">\n",
       "  <thead>\n",
       "    <tr style=\"text-align: right;\">\n",
       "      <th></th>\n",
       "      <th>model</th>\n",
       "      <th>RMSE</th>\n",
       "      <th></th>\n",
       "    </tr>\n",
       "  </thead>\n",
       "  <tbody>\n",
       "    <tr>\n",
       "      <th>0</th>\n",
       "      <td>RandomForestRegressor()</td>\n",
       "      <td>2.736</td>\n",
       "      <td>1.000</td>\n",
       "    </tr>\n",
       "    <tr>\n",
       "      <th>1</th>\n",
       "      <td>LinearRegression()</td>\n",
       "      <td>4.799</td>\n",
       "      <td>1.000</td>\n",
       "    </tr>\n",
       "    <tr>\n",
       "      <th>2</th>\n",
       "      <td>GradientBoostingRegressor()</td>\n",
       "      <td>2.532</td>\n",
       "      <td>1.000</td>\n",
       "    </tr>\n",
       "  </tbody>\n",
       "</table>\n",
       "</div>"
      ],
      "text/plain": [
       "                         model  RMSE      \n",
       "0      RandomForestRegressor() 2.736 1.000\n",
       "1           LinearRegression() 4.799 1.000\n",
       "2  GradientBoostingRegressor() 2.532 1.000"
      ]
     },
     "execution_count": 774,
     "metadata": {},
     "output_type": "execute_result"
    }
   ],
   "source": [
    "scores"
   ]
  },
  {
   "cell_type": "code",
   "execution_count": 775,
   "id": "d8ce2c90",
   "metadata": {},
   "outputs": [
    {
     "data": {
      "image/png": "[encoded data removed]",
      "text/plain": [
       "<Figure size 640x480 with 1 Axes>"
      ]
     },
     "metadata": {},
     "output_type": "display_data"
    }
   ],
   "source": [
    "feature_importance = GBR.feature_importances_[:5]\n",
    "feature_importance = 100.0 * (feature_importance / feature_importance.max())\n",
    "sorted_idx = np.argsort(feature_importance)\n",
    "pos = np.arange(sorted_idx.shape[0]) + .5\n",
    "plt.subplot(1, 2, 2)\n",
    "plt.barh(pos, feature_importance[sorted_idx], align='center')\n",
    "plt.yticks(pos, X_train.columns[sorted_idx]) \n",
    "plt.xlabel('Relative Importance')\n",
    "plt.ylabel('Features')\n",
    "plt.title('Variable Importance for Random Forest')\n",
    "plt.show()"
   ]
  },
  {
   "cell_type": "markdown",
   "id": "08e6e979",
   "metadata": {},
   "source": [
    "#### LGBM"
   ]
  },
  {
   "cell_type": "code",
   "execution_count": 803,
   "id": "c8aa3845",
   "metadata": {},
   "outputs": [],
   "source": [
    "import lightgbm as lgbm"
   ]
  },
  {
   "cell_type": "code",
   "execution_count": 804,
   "id": "70a2c425",
   "metadata": {},
   "outputs": [],
   "source": [
    "lgbm_model = train_model(lgbm.LGBMRegressor())"
   ]
  },
  {
   "cell_type": "code",
   "execution_count": 805,
   "id": "8fe07d2b",
   "metadata": {},
   "outputs": [
    {
     "data": {
      "text/html": [
       "<div>\n",
       "<style scoped>\n",
       "    .dataframe tbody tr th:only-of-type {\n",
       "        vertical-align: middle;\n",
       "    }\n",
       "\n",
       "    .dataframe tbody tr th {\n",
       "        vertical-align: top;\n",
       "    }\n",
       "\n",
       "    .dataframe thead th {\n",
       "        text-align: right;\n",
       "    }\n",
       "</style>\n",
       "<table border=\"1\" class=\"dataframe\">\n",
       "  <thead>\n",
       "    <tr style=\"text-align: right;\">\n",
       "      <th></th>\n",
       "      <th>model</th>\n",
       "      <th>RMSE</th>\n",
       "      <th></th>\n",
       "    </tr>\n",
       "  </thead>\n",
       "  <tbody>\n",
       "    <tr>\n",
       "      <th>0</th>\n",
       "      <td>RandomForestRegressor()</td>\n",
       "      <td>2.736</td>\n",
       "      <td>1.000</td>\n",
       "    </tr>\n",
       "    <tr>\n",
       "      <th>1</th>\n",
       "      <td>LinearRegression()</td>\n",
       "      <td>4.799</td>\n",
       "      <td>1.000</td>\n",
       "    </tr>\n",
       "    <tr>\n",
       "      <th>2</th>\n",
       "      <td>GradientBoostingRegressor()</td>\n",
       "      <td>2.532</td>\n",
       "      <td>1.000</td>\n",
       "    </tr>\n",
       "    <tr>\n",
       "      <th>3</th>\n",
       "      <td>XGBRegressor(base_score=0.5, booster='gbtree',...</td>\n",
       "      <td>2.457</td>\n",
       "      <td>1.000</td>\n",
       "    </tr>\n",
       "    <tr>\n",
       "      <th>4</th>\n",
       "      <td>LGBMRegressor()</td>\n",
       "      <td>2.566</td>\n",
       "      <td>1.000</td>\n",
       "    </tr>\n",
       "  </tbody>\n",
       "</table>\n",
       "</div>"
      ],
      "text/plain": [
       "                                               model  RMSE      \n",
       "0                            RandomForestRegressor() 2.736 1.000\n",
       "1                                 LinearRegression() 4.799 1.000\n",
       "2                        GradientBoostingRegressor() 2.532 1.000\n",
       "3  XGBRegressor(base_score=0.5, booster='gbtree',... 2.457 1.000\n",
       "4                                    LGBMRegressor() 2.566 1.000"
      ]
     },
     "execution_count": 805,
     "metadata": {},
     "output_type": "execute_result"
    }
   ],
   "source": [
    "scores"
   ]
  },
  {
   "cell_type": "code",
   "execution_count": 828,
   "id": "1c1c549a",
   "metadata": {},
   "outputs": [
    {
     "data": {
      "text/plain": [
       "<AxesSubplot:title={'center':'Feature importance'}, xlabel='Feature importance', ylabel='Features'>"
      ]
     },
     "execution_count": 828,
     "metadata": {},
     "output_type": "execute_result"
    },
    {
     "data": {
      "image/png": "[encoded data removed]",
      "text/plain": [
       "<Figure size 640x480 with 1 Axes>"
      ]
     },
     "metadata": {},
     "output_type": "display_data"
    }
   ],
   "source": [
    "lgbm.plot_importance(lgbm_model, height=.5)"
   ]
  },
  {
   "cell_type": "markdown",
   "id": "c970c499",
   "metadata": {},
   "source": [
    "#### XGBOOST"
   ]
  },
  {
   "cell_type": "code",
   "execution_count": 489,
   "id": "9621f10e",
   "metadata": {},
   "outputs": [],
   "source": [
    "import xgboost as xgb\n",
    "from xgboost import plot_importance"
   ]
  },
  {
   "cell_type": "code",
   "execution_count": 777,
   "id": "7af1d47e",
   "metadata": {},
   "outputs": [],
   "source": [
    "XGB = train_model(xgb.XGBRegressor())"
   ]
  },
  {
   "cell_type": "code",
   "execution_count": 779,
   "id": "b5ce0c87",
   "metadata": {},
   "outputs": [
    {
     "data": {
      "text/plain": [
       "<AxesSubplot:title={'center':'Feature importance'}, xlabel='F score', ylabel='Features'>"
      ]
     },
     "execution_count": 779,
     "metadata": {},
     "output_type": "execute_result"
    },
    {
     "data": {
      "image/png": "[encoded data removed]",
      "text/plain": [
       "<Figure size 640x480 with 1 Axes>"
      ]
     },
     "metadata": {},
     "output_type": "display_data"
    }
   ],
   "source": [
    "plot_importance(XGB)"
   ]
  },
  {
   "cell_type": "code",
   "execution_count": 780,
   "id": "072a91c5",
   "metadata": {},
   "outputs": [
    {
     "data": {
      "text/html": [
       "<div>\n",
       "<style scoped>\n",
       "    .dataframe tbody tr th:only-of-type {\n",
       "        vertical-align: middle;\n",
       "    }\n",
       "\n",
       "    .dataframe tbody tr th {\n",
       "        vertical-align: top;\n",
       "    }\n",
       "\n",
       "    .dataframe thead th {\n",
       "        text-align: right;\n",
       "    }\n",
       "</style>\n",
       "<table border=\"1\" class=\"dataframe\">\n",
       "  <thead>\n",
       "    <tr style=\"text-align: right;\">\n",
       "      <th></th>\n",
       "      <th>model</th>\n",
       "      <th>RMSE</th>\n",
       "      <th></th>\n",
       "    </tr>\n",
       "  </thead>\n",
       "  <tbody>\n",
       "    <tr>\n",
       "      <th>0</th>\n",
       "      <td>RandomForestRegressor()</td>\n",
       "      <td>2.736</td>\n",
       "      <td>1.000</td>\n",
       "    </tr>\n",
       "    <tr>\n",
       "      <th>1</th>\n",
       "      <td>LinearRegression()</td>\n",
       "      <td>4.799</td>\n",
       "      <td>1.000</td>\n",
       "    </tr>\n",
       "    <tr>\n",
       "      <th>2</th>\n",
       "      <td>GradientBoostingRegressor()</td>\n",
       "      <td>2.532</td>\n",
       "      <td>1.000</td>\n",
       "    </tr>\n",
       "    <tr>\n",
       "      <th>3</th>\n",
       "      <td>XGBRegressor(base_score=0.5, booster='gbtree',...</td>\n",
       "      <td>2.457</td>\n",
       "      <td>1.000</td>\n",
       "    </tr>\n",
       "  </tbody>\n",
       "</table>\n",
       "</div>"
      ],
      "text/plain": [
       "                                               model  RMSE      \n",
       "0                            RandomForestRegressor() 2.736 1.000\n",
       "1                                 LinearRegression() 4.799 1.000\n",
       "2                        GradientBoostingRegressor() 2.532 1.000\n",
       "3  XGBRegressor(base_score=0.5, booster='gbtree',... 2.457 1.000"
      ]
     },
     "execution_count": 780,
     "metadata": {},
     "output_type": "execute_result"
    }
   ],
   "source": [
    "scores"
   ]
  },
  {
   "cell_type": "code",
   "execution_count": 798,
   "id": "c84de93d",
   "metadata": {},
   "outputs": [
    {
     "data": {
      "image/png": "[encoded data removed]",
      "text/plain": [
       "<Figure size 640x480 with 1 Axes>"
      ]
     },
     "metadata": {},
     "output_type": "display_data"
    }
   ],
   "source": [
    "pd.DataFrame(XGB.feature_importances_, index = X_train.columns).sort_values(0)\\\n",
    ".plot(kind = 'barh', legend = False)\n",
    "plt.title('Feature importances', fontsize = 16);"
   ]
  },
  {
   "cell_type": "markdown",
   "id": "64c45677",
   "metadata": {},
   "source": [
    "### Hyperparameter Tuning"
   ]
  },
  {
   "cell_type": "code",
   "execution_count": 854,
   "id": "bcf32076",
   "metadata": {},
   "outputs": [],
   "source": [
    "scores = pd.DataFrame(columns=['model', 'untuned_RMSE', 'untuned_score', 'tuned_RMSE', 'tuned_score', \\\n",
    "                               'gridsearch_best_estimator', 'best_score', 'best_params'])\n",
    "def train_model(model, params):\n",
    "    X_train, X_test, y_train, y_test = reset_data()\n",
    "    model.fit(X_train, y_train)\n",
    "    y_pred_untuned = model.predict(X_test)\n",
    "    untuned_RMSE = np.sqrt(mean_squared_error(y_test, y_pred_untuned))\n",
    "    untuned_score = model.score(X_test, y_pred_untuned)\n",
    "    \n",
    "    #tuning\n",
    "    grid_search = GridSearchCV(estimator=model, param_grid = params, cv = 2, n_jobs=8)\n",
    "    grid_search.fit(X_train, y_train)\n",
    "    try: \n",
    "        gridsearch_best_estimator = grid_search.best_estimator_\n",
    "    except: \n",
    "        gridsearch_best_estimator = \"None\"\n",
    "    \n",
    "    best_score = grid_search.best_score_\n",
    "    best_params = grid_search.best_params_\n",
    "    tuned_y_pred = grid_search.predict(X_test)\n",
    "    tuned_RMSE = np.sqrt(metrics.mean_squared_error(y_test, tuned_y_pred))\n",
    "    tuned_score = grid_search.score(X_test, tuned_y_pred)\n",
    "    row = [str(model), untuned_RMSE, untuned_score, \\\n",
    "           tuned_RMSE, tuned_score, \\\n",
    "           str(gridsearch_best_estimator),best_score, str(best_params)]\n",
    "    scores.loc[len(scores)] = row\n",
    "    print(best_params)\n",
    "    print(best_score)\n",
    "    print(tuned_RMSE)\n",
    "    print(untuned_RMSE, tuned_RMSE)\n",
    "    return grid_search"
   ]
  },
  {
   "cell_type": "markdown",
   "id": "eae02fcd",
   "metadata": {},
   "source": [
    "#### LR"
   ]
  },
  {
   "cell_type": "code",
   "execution_count": 814,
   "id": "bee54a02",
   "metadata": {},
   "outputs": [
    {
     "data": {
      "text/html": [
       "<style>div.sk-top-container {color: black;background-color: white;}div.sk-toggleable {background-color: white;}label.sk-toggleable__label {cursor: pointer;display: block;width: 100%;margin-bottom: 0;padding: 0.2em 0.3em;box-sizing: border-box;text-align: center;}div.sk-toggleable__content {max-height: 0;max-width: 0;overflow: hidden;text-align: left;background-color: #f0f8ff;}div.sk-toggleable__content pre {margin: 0.2em;color: black;border-radius: 0.25em;background-color: #f0f8ff;}input.sk-toggleable__control:checked~div.sk-toggleable__content {max-height: 200px;max-width: 100%;overflow: auto;}div.sk-estimator input.sk-toggleable__control:checked~label.sk-toggleable__label {background-color: #d4ebff;}div.sk-label input.sk-toggleable__control:checked~label.sk-toggleable__label {background-color: #d4ebff;}input.sk-hidden--visually {border: 0;clip: rect(1px 1px 1px 1px);clip: rect(1px, 1px, 1px, 1px);height: 1px;margin: -1px;overflow: hidden;padding: 0;position: absolute;width: 1px;}div.sk-estimator {font-family: monospace;background-color: #f0f8ff;margin: 0.25em 0.25em;border: 1px dotted black;border-radius: 0.25em;box-sizing: border-box;}div.sk-estimator:hover {background-color: #d4ebff;}div.sk-parallel-item::after {content: \"\";width: 100%;border-bottom: 1px solid gray;flex-grow: 1;}div.sk-label:hover label.sk-toggleable__label {background-color: #d4ebff;}div.sk-serial::before {content: \"\";position: absolute;border-left: 1px solid gray;box-sizing: border-box;top: 2em;bottom: 0;left: 50%;}div.sk-serial {display: flex;flex-direction: column;align-items: center;background-color: white;}div.sk-item {z-index: 1;}div.sk-parallel {display: flex;align-items: stretch;justify-content: center;background-color: white;}div.sk-parallel-item {display: flex;flex-direction: column;position: relative;background-color: white;}div.sk-parallel-item:first-child::after {align-self: flex-end;width: 50%;}div.sk-parallel-item:last-child::after {align-self: flex-start;width: 50%;}div.sk-parallel-item:only-child::after {width: 0;}div.sk-dashed-wrapped {border: 1px dashed gray;margin: 0.2em;box-sizing: border-box;padding-bottom: 0.1em;background-color: white;position: relative;}div.sk-label label {font-family: monospace;font-weight: bold;background-color: white;display: inline-block;line-height: 1.2em;}div.sk-label-container {position: relative;z-index: 2;text-align: center;}div.sk-container {display: inline-block;position: relative;}</style><div class=\"sk-top-container\"><div class=\"sk-container\"><div class=\"sk-item sk-dashed-wrapped\"><div class=\"sk-label-container\"><div class=\"sk-label sk-toggleable\"><input class=\"sk-toggleable__control sk-hidden--visually\" id=\"08946826-97cf-4a46-ac98-3db285a1c1df\" type=\"checkbox\" ><label class=\"sk-toggleable__label\" for=\"08946826-97cf-4a46-ac98-3db285a1c1df\">GridSearchCV</label><div class=\"sk-toggleable__content\"><pre>GridSearchCV(cv=2, estimator=LinearRegression(), n_jobs=8,\n",
       "             param_grid={'fit_intercept': [True, False],\n",
       "                         'normalize': [True, False]})</pre></div></div></div><div class=\"sk-parallel\"><div class=\"sk-parallel-item\"><div class=\"sk-item\"><div class=\"sk-serial\"><div class=\"sk-item\"><div class=\"sk-estimator sk-toggleable\"><input class=\"sk-toggleable__control sk-hidden--visually\" id=\"b53ae978-5717-42c3-addc-21df66dc218d\" type=\"checkbox\" ><label class=\"sk-toggleable__label\" for=\"b53ae978-5717-42c3-addc-21df66dc218d\">LinearRegression</label><div class=\"sk-toggleable__content\"><pre>LinearRegression()</pre></div></div></div></div></div></div></div></div></div></div>"
      ],
      "text/plain": [
       "GridSearchCV(cv=2, estimator=LinearRegression(), n_jobs=8,\n",
       "             param_grid={'fit_intercept': [True, False],\n",
       "                         'normalize': [True, False]})"
      ]
     },
     "execution_count": 814,
     "metadata": {},
     "output_type": "execute_result"
    }
   ],
   "source": [
    "grid_params = {\"normalize\": [True, False],\n",
    "              \"fit_intercept\": [True, False],}\n",
    "train_model(LinearRegression(), grid_params)"
   ]
  },
  {
   "cell_type": "code",
   "execution_count": 815,
   "id": "68a9d7e9",
   "metadata": {},
   "outputs": [
    {
     "data": {
      "text/html": [
       "<div>\n",
       "<style scoped>\n",
       "    .dataframe tbody tr th:only-of-type {\n",
       "        vertical-align: middle;\n",
       "    }\n",
       "\n",
       "    .dataframe tbody tr th {\n",
       "        vertical-align: top;\n",
       "    }\n",
       "\n",
       "    .dataframe thead th {\n",
       "        text-align: right;\n",
       "    }\n",
       "</style>\n",
       "<table border=\"1\" class=\"dataframe\">\n",
       "  <thead>\n",
       "    <tr style=\"text-align: right;\">\n",
       "      <th></th>\n",
       "      <th>model</th>\n",
       "      <th>untuned_RMSE</th>\n",
       "      <th>untuned_score</th>\n",
       "      <th>tuned_RMSE</th>\n",
       "      <th>tuned_score</th>\n",
       "      <th>gridsearch_best_estimator</th>\n",
       "      <th>best_score</th>\n",
       "      <th>best_params</th>\n",
       "    </tr>\n",
       "  </thead>\n",
       "  <tbody>\n",
       "    <tr>\n",
       "      <th>0</th>\n",
       "      <td>LinearRegression()</td>\n",
       "      <td>4.836</td>\n",
       "      <td>1.000</td>\n",
       "      <td>4.836</td>\n",
       "      <td>1.000</td>\n",
       "      <td>LinearRegression(normalize=True)</td>\n",
       "      <td>0.838</td>\n",
       "      <td>{'fit_intercept': True, 'normalize': True}</td>\n",
       "    </tr>\n",
       "  </tbody>\n",
       "</table>\n",
       "</div>"
      ],
      "text/plain": [
       "                model  untuned_RMSE  untuned_score  tuned_RMSE  tuned_score  \\\n",
       "0  LinearRegression()         4.836          1.000       4.836        1.000   \n",
       "\n",
       "          gridsearch_best_estimator  best_score  \\\n",
       "0  LinearRegression(normalize=True)       0.838   \n",
       "\n",
       "                                  best_params  \n",
       "0  {'fit_intercept': True, 'normalize': True}  "
      ]
     },
     "execution_count": 815,
     "metadata": {},
     "output_type": "execute_result"
    }
   ],
   "source": [
    "scores"
   ]
  },
  {
   "cell_type": "code",
   "execution_count": 819,
   "id": "abe5711e",
   "metadata": {},
   "outputs": [
    {
     "name": "stdout",
     "output_type": "stream",
     "text": [
      "1.0 4.946520201096433\n"
     ]
    }
   ],
   "source": [
    "X_train, X_test, y_train, y_test = reset_data()\n",
    "model = LinearRegression(fit_intercept =True, normalize =True)\n",
    "model.fit(X_train, y_train)\n",
    "y_pred = model.predict(X_test)\n",
    "score = model.score(X_test, y_pred)\n",
    "RMSE = np.sqrt(mean_squared_error(y_test, y_pred))\n",
    "print(score, RMSE)"
   ]
  },
  {
   "cell_type": "markdown",
   "id": "bb18c762",
   "metadata": {},
   "source": [
    "#### RFR"
   ]
  },
  {
   "cell_type": "code",
   "execution_count": 822,
   "id": "99a82e5f",
   "metadata": {},
   "outputs": [
    {
     "data": {
      "text/html": [
       "<style>div.sk-top-container {color: black;background-color: white;}div.sk-toggleable {background-color: white;}label.sk-toggleable__label {cursor: pointer;display: block;width: 100%;margin-bottom: 0;padding: 0.2em 0.3em;box-sizing: border-box;text-align: center;}div.sk-toggleable__content {max-height: 0;max-width: 0;overflow: hidden;text-align: left;background-color: #f0f8ff;}div.sk-toggleable__content pre {margin: 0.2em;color: black;border-radius: 0.25em;background-color: #f0f8ff;}input.sk-toggleable__control:checked~div.sk-toggleable__content {max-height: 200px;max-width: 100%;overflow: auto;}div.sk-estimator input.sk-toggleable__control:checked~label.sk-toggleable__label {background-color: #d4ebff;}div.sk-label input.sk-toggleable__control:checked~label.sk-toggleable__label {background-color: #d4ebff;}input.sk-hidden--visually {border: 0;clip: rect(1px 1px 1px 1px);clip: rect(1px, 1px, 1px, 1px);height: 1px;margin: -1px;overflow: hidden;padding: 0;position: absolute;width: 1px;}div.sk-estimator {font-family: monospace;background-color: #f0f8ff;margin: 0.25em 0.25em;border: 1px dotted black;border-radius: 0.25em;box-sizing: border-box;}div.sk-estimator:hover {background-color: #d4ebff;}div.sk-parallel-item::after {content: \"\";width: 100%;border-bottom: 1px solid gray;flex-grow: 1;}div.sk-label:hover label.sk-toggleable__label {background-color: #d4ebff;}div.sk-serial::before {content: \"\";position: absolute;border-left: 1px solid gray;box-sizing: border-box;top: 2em;bottom: 0;left: 50%;}div.sk-serial {display: flex;flex-direction: column;align-items: center;background-color: white;}div.sk-item {z-index: 1;}div.sk-parallel {display: flex;align-items: stretch;justify-content: center;background-color: white;}div.sk-parallel-item {display: flex;flex-direction: column;position: relative;background-color: white;}div.sk-parallel-item:first-child::after {align-self: flex-end;width: 50%;}div.sk-parallel-item:last-child::after {align-self: flex-start;width: 50%;}div.sk-parallel-item:only-child::after {width: 0;}div.sk-dashed-wrapped {border: 1px dashed gray;margin: 0.2em;box-sizing: border-box;padding-bottom: 0.1em;background-color: white;position: relative;}div.sk-label label {font-family: monospace;font-weight: bold;background-color: white;display: inline-block;line-height: 1.2em;}div.sk-label-container {position: relative;z-index: 2;text-align: center;}div.sk-container {display: inline-block;position: relative;}</style><div class=\"sk-top-container\"><div class=\"sk-container\"><div class=\"sk-item sk-dashed-wrapped\"><div class=\"sk-label-container\"><div class=\"sk-label sk-toggleable\"><input class=\"sk-toggleable__control sk-hidden--visually\" id=\"1ae54daa-906c-4b9c-8081-1989d3d989a2\" type=\"checkbox\" ><label class=\"sk-toggleable__label\" for=\"1ae54daa-906c-4b9c-8081-1989d3d989a2\">GridSearchCV</label><div class=\"sk-toggleable__content\"><pre>GridSearchCV(cv=2, estimator=RandomForestRegressor(), n_jobs=8,\n",
       "             param_grid={'bootstrap': [True, False],\n",
       "                         'max_depth': [1, 3, 5, 7, 9, 11, 12],\n",
       "                         'max_features': ['auto', 'sqrt'],\n",
       "                         'min_samples_leaf': [1, 3, 4],\n",
       "                         'n_estimators': [5, 20, 50, 100]})</pre></div></div></div><div class=\"sk-parallel\"><div class=\"sk-parallel-item\"><div class=\"sk-item\"><div class=\"sk-serial\"><div class=\"sk-item\"><div class=\"sk-estimator sk-toggleable\"><input class=\"sk-toggleable__control sk-hidden--visually\" id=\"9507e3a8-9c0f-48b5-977d-ee167187adfb\" type=\"checkbox\" ><label class=\"sk-toggleable__label\" for=\"9507e3a8-9c0f-48b5-977d-ee167187adfb\">RandomForestRegressor</label><div class=\"sk-toggleable__content\"><pre>RandomForestRegressor()</pre></div></div></div></div></div></div></div></div></div></div>"
      ],
      "text/plain": [
       "GridSearchCV(cv=2, estimator=RandomForestRegressor(), n_jobs=8,\n",
       "             param_grid={'bootstrap': [True, False],\n",
       "                         'max_depth': [1, 3, 5, 7, 9, 11, 12],\n",
       "                         'max_features': ['auto', 'sqrt'],\n",
       "                         'min_samples_leaf': [1, 3, 4],\n",
       "                         'n_estimators': [5, 20, 50, 100]})"
      ]
     },
     "execution_count": 822,
     "metadata": {},
     "output_type": "execute_result"
    }
   ],
   "source": [
    "parameters={\n",
    "    \"n_estimators\": [5,20,50,100],\n",
    "    \"max_features\": [\"auto\", \"sqrt\"],\n",
    "    \"bootstrap\": [True, False],\n",
    "    \"max_depth\" : [1,3,5,7,9,11,12],\n",
    "    \"min_samples_leaf\":[1,3,4],}\n",
    "train_model(RandomForestRegressor(), parameters)"
   ]
  },
  {
   "cell_type": "code",
   "execution_count": 824,
   "id": "df6b7766",
   "metadata": {},
   "outputs": [
    {
     "data": {
      "text/html": [
       "<div>\n",
       "<style scoped>\n",
       "    .dataframe tbody tr th:only-of-type {\n",
       "        vertical-align: middle;\n",
       "    }\n",
       "\n",
       "    .dataframe tbody tr th {\n",
       "        vertical-align: top;\n",
       "    }\n",
       "\n",
       "    .dataframe thead th {\n",
       "        text-align: right;\n",
       "    }\n",
       "</style>\n",
       "<table border=\"1\" class=\"dataframe\">\n",
       "  <thead>\n",
       "    <tr style=\"text-align: right;\">\n",
       "      <th></th>\n",
       "      <th>model</th>\n",
       "      <th>untuned_RMSE</th>\n",
       "      <th>untuned_score</th>\n",
       "      <th>tuned_RMSE</th>\n",
       "      <th>tuned_score</th>\n",
       "      <th>gridsearch_best_estimator</th>\n",
       "      <th>best_score</th>\n",
       "      <th>best_params</th>\n",
       "    </tr>\n",
       "  </thead>\n",
       "  <tbody>\n",
       "    <tr>\n",
       "      <th>0</th>\n",
       "      <td>LinearRegression()</td>\n",
       "      <td>4.836</td>\n",
       "      <td>1.000</td>\n",
       "      <td>4.836</td>\n",
       "      <td>1.000</td>\n",
       "      <td>LinearRegression(normalize=True)</td>\n",
       "      <td>0.838</td>\n",
       "      <td>{'fit_intercept': True, 'normalize': True}</td>\n",
       "    </tr>\n",
       "    <tr>\n",
       "      <th>1</th>\n",
       "      <td>RandomForestRegressor()</td>\n",
       "      <td>2.702</td>\n",
       "      <td>1.000</td>\n",
       "      <td>2.735</td>\n",
       "      <td>1.000</td>\n",
       "      <td>(DecisionTreeRegressor(max_depth=12, max_featu...</td>\n",
       "      <td>0.954</td>\n",
       "      <td>{'bootstrap': True, 'max_depth': 12, 'max_feat...</td>\n",
       "    </tr>\n",
       "  </tbody>\n",
       "</table>\n",
       "</div>"
      ],
      "text/plain": [
       "                     model  untuned_RMSE  untuned_score  tuned_RMSE  \\\n",
       "0       LinearRegression()         4.836          1.000       4.836   \n",
       "1  RandomForestRegressor()         2.702          1.000       2.735   \n",
       "\n",
       "   tuned_score                          gridsearch_best_estimator  best_score  \\\n",
       "0        1.000                   LinearRegression(normalize=True)       0.838   \n",
       "1        1.000  (DecisionTreeRegressor(max_depth=12, max_featu...       0.954   \n",
       "\n",
       "                                         best_params  \n",
       "0         {'fit_intercept': True, 'normalize': True}  \n",
       "1  {'bootstrap': True, 'max_depth': 12, 'max_feat...  "
      ]
     },
     "execution_count": 824,
     "metadata": {},
     "output_type": "execute_result"
    }
   ],
   "source": [
    "scores"
   ]
  },
  {
   "cell_type": "markdown",
   "id": "52757c8d",
   "metadata": {},
   "source": [
    "#### GradientBoostingRegressor"
   ]
  },
  {
   "cell_type": "code",
   "execution_count": 825,
   "id": "7a519705",
   "metadata": {},
   "outputs": [
    {
     "data": {
      "text/html": [
       "<style>div.sk-top-container {color: black;background-color: white;}div.sk-toggleable {background-color: white;}label.sk-toggleable__label {cursor: pointer;display: block;width: 100%;margin-bottom: 0;padding: 0.2em 0.3em;box-sizing: border-box;text-align: center;}div.sk-toggleable__content {max-height: 0;max-width: 0;overflow: hidden;text-align: left;background-color: #f0f8ff;}div.sk-toggleable__content pre {margin: 0.2em;color: black;border-radius: 0.25em;background-color: #f0f8ff;}input.sk-toggleable__control:checked~div.sk-toggleable__content {max-height: 200px;max-width: 100%;overflow: auto;}div.sk-estimator input.sk-toggleable__control:checked~label.sk-toggleable__label {background-color: #d4ebff;}div.sk-label input.sk-toggleable__control:checked~label.sk-toggleable__label {background-color: #d4ebff;}input.sk-hidden--visually {border: 0;clip: rect(1px 1px 1px 1px);clip: rect(1px, 1px, 1px, 1px);height: 1px;margin: -1px;overflow: hidden;padding: 0;position: absolute;width: 1px;}div.sk-estimator {font-family: monospace;background-color: #f0f8ff;margin: 0.25em 0.25em;border: 1px dotted black;border-radius: 0.25em;box-sizing: border-box;}div.sk-estimator:hover {background-color: #d4ebff;}div.sk-parallel-item::after {content: \"\";width: 100%;border-bottom: 1px solid gray;flex-grow: 1;}div.sk-label:hover label.sk-toggleable__label {background-color: #d4ebff;}div.sk-serial::before {content: \"\";position: absolute;border-left: 1px solid gray;box-sizing: border-box;top: 2em;bottom: 0;left: 50%;}div.sk-serial {display: flex;flex-direction: column;align-items: center;background-color: white;}div.sk-item {z-index: 1;}div.sk-parallel {display: flex;align-items: stretch;justify-content: center;background-color: white;}div.sk-parallel-item {display: flex;flex-direction: column;position: relative;background-color: white;}div.sk-parallel-item:first-child::after {align-self: flex-end;width: 50%;}div.sk-parallel-item:last-child::after {align-self: flex-start;width: 50%;}div.sk-parallel-item:only-child::after {width: 0;}div.sk-dashed-wrapped {border: 1px dashed gray;margin: 0.2em;box-sizing: border-box;padding-bottom: 0.1em;background-color: white;position: relative;}div.sk-label label {font-family: monospace;font-weight: bold;background-color: white;display: inline-block;line-height: 1.2em;}div.sk-label-container {position: relative;z-index: 2;text-align: center;}div.sk-container {display: inline-block;position: relative;}</style><div class=\"sk-top-container\"><div class=\"sk-container\"><div class=\"sk-item sk-dashed-wrapped\"><div class=\"sk-label-container\"><div class=\"sk-label sk-toggleable\"><input class=\"sk-toggleable__control sk-hidden--visually\" id=\"49912b0e-ed75-4e1e-84ed-b50fcc077709\" type=\"checkbox\" ><label class=\"sk-toggleable__label\" for=\"49912b0e-ed75-4e1e-84ed-b50fcc077709\">GridSearchCV</label><div class=\"sk-toggleable__content\"><pre>GridSearchCV(cv=2, estimator=GradientBoostingRegressor(), n_jobs=8,\n",
       "             param_grid={'learning_rate': [0.01, 0.02, 0.03, 0.04],\n",
       "                         'max_depth': [4, 6, 8, 10],\n",
       "                         'n_estimators': [5, 100, 500, 1000, 1500],\n",
       "                         'subsample': [0.9, 0.5, 0.2, 0.1]})</pre></div></div></div><div class=\"sk-parallel\"><div class=\"sk-parallel-item\"><div class=\"sk-item\"><div class=\"sk-serial\"><div class=\"sk-item\"><div class=\"sk-estimator sk-toggleable\"><input class=\"sk-toggleable__control sk-hidden--visually\" id=\"52f3b277-b7d4-4d26-8f2a-a32801f52329\" type=\"checkbox\" ><label class=\"sk-toggleable__label\" for=\"52f3b277-b7d4-4d26-8f2a-a32801f52329\">GradientBoostingRegressor</label><div class=\"sk-toggleable__content\"><pre>GradientBoostingRegressor()</pre></div></div></div></div></div></div></div></div></div></div>"
      ],
      "text/plain": [
       "GridSearchCV(cv=2, estimator=GradientBoostingRegressor(), n_jobs=8,\n",
       "             param_grid={'learning_rate': [0.01, 0.02, 0.03, 0.04],\n",
       "                         'max_depth': [4, 6, 8, 10],\n",
       "                         'n_estimators': [5, 100, 500, 1000, 1500],\n",
       "                         'subsample': [0.9, 0.5, 0.2, 0.1]})"
      ]
     },
     "execution_count": 825,
     "metadata": {},
     "output_type": "execute_result"
    }
   ],
   "source": [
    "parameters = {'learning_rate': [0.01,0.02,0.03,0.04],\n",
    "              'subsample'    : [0.9, 0.5, 0.2, 0.1],\n",
    "              'n_estimators' : [5,100,500,1000, 1500],\n",
    "              'max_depth'    : [4,6,8,10] }\n",
    "\n",
    "train_model(GradientBoostingRegressor(), parameters)"
   ]
  },
  {
   "cell_type": "code",
   "execution_count": 827,
   "id": "64e566ac",
   "metadata": {},
   "outputs": [
    {
     "data": {
      "text/html": [
       "<div>\n",
       "<style scoped>\n",
       "    .dataframe tbody tr th:only-of-type {\n",
       "        vertical-align: middle;\n",
       "    }\n",
       "\n",
       "    .dataframe tbody tr th {\n",
       "        vertical-align: top;\n",
       "    }\n",
       "\n",
       "    .dataframe thead th {\n",
       "        text-align: right;\n",
       "    }\n",
       "</style>\n",
       "<table border=\"1\" class=\"dataframe\">\n",
       "  <thead>\n",
       "    <tr style=\"text-align: right;\">\n",
       "      <th></th>\n",
       "      <th>model</th>\n",
       "      <th>untuned_RMSE</th>\n",
       "      <th>untuned_score</th>\n",
       "      <th>tuned_RMSE</th>\n",
       "      <th>tuned_score</th>\n",
       "      <th>gridsearch_best_estimator</th>\n",
       "      <th>best_score</th>\n",
       "      <th>best_params</th>\n",
       "    </tr>\n",
       "  </thead>\n",
       "  <tbody>\n",
       "    <tr>\n",
       "      <th>0</th>\n",
       "      <td>LinearRegression()</td>\n",
       "      <td>4.836</td>\n",
       "      <td>1.000</td>\n",
       "      <td>4.836</td>\n",
       "      <td>1.000</td>\n",
       "      <td>LinearRegression(normalize=True)</td>\n",
       "      <td>0.838</td>\n",
       "      <td>{'fit_intercept': True, 'normalize': True}</td>\n",
       "    </tr>\n",
       "    <tr>\n",
       "      <th>1</th>\n",
       "      <td>RandomForestRegressor()</td>\n",
       "      <td>2.702</td>\n",
       "      <td>1.000</td>\n",
       "      <td>2.735</td>\n",
       "      <td>1.000</td>\n",
       "      <td>(DecisionTreeRegressor(max_depth=12, max_featu...</td>\n",
       "      <td>0.954</td>\n",
       "      <td>{'bootstrap': True, 'max_depth': 12, 'max_feat...</td>\n",
       "    </tr>\n",
       "    <tr>\n",
       "      <th>2</th>\n",
       "      <td>GradientBoostingRegressor()</td>\n",
       "      <td>2.556</td>\n",
       "      <td>1.000</td>\n",
       "      <td>2.393</td>\n",
       "      <td>1.000</td>\n",
       "      <td>([DecisionTreeRegressor(criterion='friedman_ms...</td>\n",
       "      <td>0.955</td>\n",
       "      <td>{'learning_rate': 0.02, 'max_depth': 4, 'n_est...</td>\n",
       "    </tr>\n",
       "  </tbody>\n",
       "</table>\n",
       "</div>"
      ],
      "text/plain": [
       "                         model  untuned_RMSE  untuned_score  tuned_RMSE  \\\n",
       "0           LinearRegression()         4.836          1.000       4.836   \n",
       "1      RandomForestRegressor()         2.702          1.000       2.735   \n",
       "2  GradientBoostingRegressor()         2.556          1.000       2.393   \n",
       "\n",
       "   tuned_score                          gridsearch_best_estimator  best_score  \\\n",
       "0        1.000                   LinearRegression(normalize=True)       0.838   \n",
       "1        1.000  (DecisionTreeRegressor(max_depth=12, max_featu...       0.954   \n",
       "2        1.000  ([DecisionTreeRegressor(criterion='friedman_ms...       0.955   \n",
       "\n",
       "                                         best_params  \n",
       "0         {'fit_intercept': True, 'normalize': True}  \n",
       "1  {'bootstrap': True, 'max_depth': 12, 'max_feat...  \n",
       "2  {'learning_rate': 0.02, 'max_depth': 4, 'n_est...  "
      ]
     },
     "execution_count": 827,
     "metadata": {},
     "output_type": "execute_result"
    }
   ],
   "source": [
    "scores"
   ]
  },
  {
   "cell_type": "markdown",
   "id": "96fb880a",
   "metadata": {},
   "source": [
    "#### LGBM"
   ]
  },
  {
   "cell_type": "code",
   "execution_count": 829,
   "id": "8068ae75",
   "metadata": {},
   "outputs": [
    {
     "data": {
      "text/html": [
       "<style>div.sk-top-container {color: black;background-color: white;}div.sk-toggleable {background-color: white;}label.sk-toggleable__label {cursor: pointer;display: block;width: 100%;margin-bottom: 0;padding: 0.2em 0.3em;box-sizing: border-box;text-align: center;}div.sk-toggleable__content {max-height: 0;max-width: 0;overflow: hidden;text-align: left;background-color: #f0f8ff;}div.sk-toggleable__content pre {margin: 0.2em;color: black;border-radius: 0.25em;background-color: #f0f8ff;}input.sk-toggleable__control:checked~div.sk-toggleable__content {max-height: 200px;max-width: 100%;overflow: auto;}div.sk-estimator input.sk-toggleable__control:checked~label.sk-toggleable__label {background-color: #d4ebff;}div.sk-label input.sk-toggleable__control:checked~label.sk-toggleable__label {background-color: #d4ebff;}input.sk-hidden--visually {border: 0;clip: rect(1px 1px 1px 1px);clip: rect(1px, 1px, 1px, 1px);height: 1px;margin: -1px;overflow: hidden;padding: 0;position: absolute;width: 1px;}div.sk-estimator {font-family: monospace;background-color: #f0f8ff;margin: 0.25em 0.25em;border: 1px dotted black;border-radius: 0.25em;box-sizing: border-box;}div.sk-estimator:hover {background-color: #d4ebff;}div.sk-parallel-item::after {content: \"\";width: 100%;border-bottom: 1px solid gray;flex-grow: 1;}div.sk-label:hover label.sk-toggleable__label {background-color: #d4ebff;}div.sk-serial::before {content: \"\";position: absolute;border-left: 1px solid gray;box-sizing: border-box;top: 2em;bottom: 0;left: 50%;}div.sk-serial {display: flex;flex-direction: column;align-items: center;background-color: white;}div.sk-item {z-index: 1;}div.sk-parallel {display: flex;align-items: stretch;justify-content: center;background-color: white;}div.sk-parallel-item {display: flex;flex-direction: column;position: relative;background-color: white;}div.sk-parallel-item:first-child::after {align-self: flex-end;width: 50%;}div.sk-parallel-item:last-child::after {align-self: flex-start;width: 50%;}div.sk-parallel-item:only-child::after {width: 0;}div.sk-dashed-wrapped {border: 1px dashed gray;margin: 0.2em;box-sizing: border-box;padding-bottom: 0.1em;background-color: white;position: relative;}div.sk-label label {font-family: monospace;font-weight: bold;background-color: white;display: inline-block;line-height: 1.2em;}div.sk-label-container {position: relative;z-index: 2;text-align: center;}div.sk-container {display: inline-block;position: relative;}</style><div class=\"sk-top-container\"><div class=\"sk-container\"><div class=\"sk-item sk-dashed-wrapped\"><div class=\"sk-label-container\"><div class=\"sk-label sk-toggleable\"><input class=\"sk-toggleable__control sk-hidden--visually\" id=\"c88bfa27-c83b-4b03-a4c3-e313a1bdf48a\" type=\"checkbox\" ><label class=\"sk-toggleable__label\" for=\"c88bfa27-c83b-4b03-a4c3-e313a1bdf48a\">GridSearchCV</label><div class=\"sk-toggleable__content\"><pre>GridSearchCV(cv=2, estimator=LGBMRegressor(), n_jobs=8,\n",
       "             param_grid={'device_type': ['gpu'],\n",
       "                         'learning_rate': [0.1, 0.03, 0.003],\n",
       "                         'max_depth': [-1, 3, 5],\n",
       "                         'n_estimators': [50, 100, 200, 500],\n",
       "                         'num_leaves': [7, 14, 21, 28, 31, 50]})</pre></div></div></div><div class=\"sk-parallel\"><div class=\"sk-parallel-item\"><div class=\"sk-item\"><div class=\"sk-serial\"><div class=\"sk-item\"><div class=\"sk-estimator sk-toggleable\"><input class=\"sk-toggleable__control sk-hidden--visually\" id=\"8fc76b69-fa64-438e-91db-a66000ffec71\" type=\"checkbox\" ><label class=\"sk-toggleable__label\" for=\"8fc76b69-fa64-438e-91db-a66000ffec71\">LGBMRegressor</label><div class=\"sk-toggleable__content\"><pre>LGBMRegressor()</pre></div></div></div></div></div></div></div></div></div></div>"
      ],
      "text/plain": [
       "GridSearchCV(cv=2, estimator=LGBMRegressor(), n_jobs=8,\n",
       "             param_grid={'device_type': ['gpu'],\n",
       "                         'learning_rate': [0.1, 0.03, 0.003],\n",
       "                         'max_depth': [-1, 3, 5],\n",
       "                         'n_estimators': [50, 100, 200, 500],\n",
       "                         'num_leaves': [7, 14, 21, 28, 31, 50]})"
      ]
     },
     "execution_count": 829,
     "metadata": {},
     "output_type": "execute_result"
    }
   ],
   "source": [
    "parameters = {\n",
    "        \"device_type\": ['gpu'],\n",
    "    'num_leaves': [7, 14, 21, 28, 31, 50],\n",
    "    'learning_rate': [0.1, 0.03, 0.003],\n",
    "    'max_depth': [-1, 3, 5],\n",
    "    'n_estimators': [50, 100, 200, 500],\n",
    "\n",
    "    }\n",
    "lgbm_reg = train_model(lgbm.LGBMRegressor(), parameters)"
   ]
  },
  {
   "cell_type": "code",
   "execution_count": 830,
   "id": "f4a82a87",
   "metadata": {},
   "outputs": [
    {
     "data": {
      "text/html": [
       "<div>\n",
       "<style scoped>\n",
       "    .dataframe tbody tr th:only-of-type {\n",
       "        vertical-align: middle;\n",
       "    }\n",
       "\n",
       "    .dataframe tbody tr th {\n",
       "        vertical-align: top;\n",
       "    }\n",
       "\n",
       "    .dataframe thead th {\n",
       "        text-align: right;\n",
       "    }\n",
       "</style>\n",
       "<table border=\"1\" class=\"dataframe\">\n",
       "  <thead>\n",
       "    <tr style=\"text-align: right;\">\n",
       "      <th></th>\n",
       "      <th>model</th>\n",
       "      <th>untuned_RMSE</th>\n",
       "      <th>untuned_score</th>\n",
       "      <th>tuned_RMSE</th>\n",
       "      <th>tuned_score</th>\n",
       "      <th>gridsearch_best_estimator</th>\n",
       "      <th>best_score</th>\n",
       "      <th>best_params</th>\n",
       "    </tr>\n",
       "  </thead>\n",
       "  <tbody>\n",
       "    <tr>\n",
       "      <th>0</th>\n",
       "      <td>LinearRegression()</td>\n",
       "      <td>4.836</td>\n",
       "      <td>1.000</td>\n",
       "      <td>4.836</td>\n",
       "      <td>1.000</td>\n",
       "      <td>LinearRegression(normalize=True)</td>\n",
       "      <td>0.838</td>\n",
       "      <td>{'fit_intercept': True, 'normalize': True}</td>\n",
       "    </tr>\n",
       "    <tr>\n",
       "      <th>1</th>\n",
       "      <td>RandomForestRegressor()</td>\n",
       "      <td>2.702</td>\n",
       "      <td>1.000</td>\n",
       "      <td>2.735</td>\n",
       "      <td>1.000</td>\n",
       "      <td>(DecisionTreeRegressor(max_depth=12, max_featu...</td>\n",
       "      <td>0.954</td>\n",
       "      <td>{'bootstrap': True, 'max_depth': 12, 'max_feat...</td>\n",
       "    </tr>\n",
       "    <tr>\n",
       "      <th>2</th>\n",
       "      <td>GradientBoostingRegressor()</td>\n",
       "      <td>2.556</td>\n",
       "      <td>1.000</td>\n",
       "      <td>2.393</td>\n",
       "      <td>1.000</td>\n",
       "      <td>([DecisionTreeRegressor(criterion='friedman_ms...</td>\n",
       "      <td>0.955</td>\n",
       "      <td>{'learning_rate': 0.02, 'max_depth': 4, 'n_est...</td>\n",
       "    </tr>\n",
       "    <tr>\n",
       "      <th>3</th>\n",
       "      <td>LGBMRegressor()</td>\n",
       "      <td>2.513</td>\n",
       "      <td>1.000</td>\n",
       "      <td>2.485</td>\n",
       "      <td>1.000</td>\n",
       "      <td>LGBMRegressor(device_type='gpu', learning_rate...</td>\n",
       "      <td>0.951</td>\n",
       "      <td>{'device_type': 'gpu', 'learning_rate': 0.03, ...</td>\n",
       "    </tr>\n",
       "  </tbody>\n",
       "</table>\n",
       "</div>"
      ],
      "text/plain": [
       "                         model  untuned_RMSE  untuned_score  tuned_RMSE  \\\n",
       "0           LinearRegression()         4.836          1.000       4.836   \n",
       "1      RandomForestRegressor()         2.702          1.000       2.735   \n",
       "2  GradientBoostingRegressor()         2.556          1.000       2.393   \n",
       "3              LGBMRegressor()         2.513          1.000       2.485   \n",
       "\n",
       "   tuned_score                          gridsearch_best_estimator  best_score  \\\n",
       "0        1.000                   LinearRegression(normalize=True)       0.838   \n",
       "1        1.000  (DecisionTreeRegressor(max_depth=12, max_featu...       0.954   \n",
       "2        1.000  ([DecisionTreeRegressor(criterion='friedman_ms...       0.955   \n",
       "3        1.000  LGBMRegressor(device_type='gpu', learning_rate...       0.951   \n",
       "\n",
       "                                         best_params  \n",
       "0         {'fit_intercept': True, 'normalize': True}  \n",
       "1  {'bootstrap': True, 'max_depth': 12, 'max_feat...  \n",
       "2  {'learning_rate': 0.02, 'max_depth': 4, 'n_est...  \n",
       "3  {'device_type': 'gpu', 'learning_rate': 0.03, ...  "
      ]
     },
     "execution_count": 830,
     "metadata": {},
     "output_type": "execute_result"
    }
   ],
   "source": [
    "scores"
   ]
  },
  {
   "cell_type": "markdown",
   "id": "b8b88c61",
   "metadata": {},
   "source": [
    "### XGBOOST"
   ]
  },
  {
   "cell_type": "code",
   "execution_count": 836,
   "id": "bfc50b37",
   "metadata": {},
   "outputs": [],
   "source": [
    "param = {\n",
    "    'tree_method':['gpu_hist'], \n",
    "    'max_depth': [2, 4, 6],\n",
    "    'n_estimators': [100, 500],\n",
    "    'colsample_bytree': [0.2, 0.6, 0.8],\n",
    "    'min_child_weight': [3, 5, 7],\n",
    "    'gamma': [0.3, 0.5, 0.7],\n",
    "    'subsample': [0.4, 0.6, 0.8]\n",
    "}\n",
    "\n",
    "\n",
    "XGB = train_model(xgb.XGBRegressor(), param)"
   ]
  },
  {
   "cell_type": "code",
   "execution_count": 837,
   "id": "096d0619",
   "metadata": {},
   "outputs": [
    {
     "data": {
      "text/html": [
       "<div>\n",
       "<style scoped>\n",
       "    .dataframe tbody tr th:only-of-type {\n",
       "        vertical-align: middle;\n",
       "    }\n",
       "\n",
       "    .dataframe tbody tr th {\n",
       "        vertical-align: top;\n",
       "    }\n",
       "\n",
       "    .dataframe thead th {\n",
       "        text-align: right;\n",
       "    }\n",
       "</style>\n",
       "<table border=\"1\" class=\"dataframe\">\n",
       "  <thead>\n",
       "    <tr style=\"text-align: right;\">\n",
       "      <th></th>\n",
       "      <th>model</th>\n",
       "      <th>untuned_RMSE</th>\n",
       "      <th>untuned_score</th>\n",
       "      <th>tuned_RMSE</th>\n",
       "      <th>tuned_score</th>\n",
       "      <th>gridsearch_best_estimator</th>\n",
       "      <th>best_score</th>\n",
       "      <th>best_params</th>\n",
       "    </tr>\n",
       "  </thead>\n",
       "  <tbody>\n",
       "    <tr>\n",
       "      <th>0</th>\n",
       "      <td>LinearRegression()</td>\n",
       "      <td>4.836</td>\n",
       "      <td>1.000</td>\n",
       "      <td>4.836</td>\n",
       "      <td>1.000</td>\n",
       "      <td>LinearRegression(normalize=True)</td>\n",
       "      <td>0.838</td>\n",
       "      <td>{'fit_intercept': True, 'normalize': True}</td>\n",
       "    </tr>\n",
       "    <tr>\n",
       "      <th>1</th>\n",
       "      <td>RandomForestRegressor()</td>\n",
       "      <td>2.702</td>\n",
       "      <td>1.000</td>\n",
       "      <td>2.735</td>\n",
       "      <td>1.000</td>\n",
       "      <td>(DecisionTreeRegressor(max_depth=12, max_featu...</td>\n",
       "      <td>0.954</td>\n",
       "      <td>{'bootstrap': True, 'max_depth': 12, 'max_feat...</td>\n",
       "    </tr>\n",
       "    <tr>\n",
       "      <th>2</th>\n",
       "      <td>GradientBoostingRegressor()</td>\n",
       "      <td>2.556</td>\n",
       "      <td>1.000</td>\n",
       "      <td>2.393</td>\n",
       "      <td>1.000</td>\n",
       "      <td>([DecisionTreeRegressor(criterion='friedman_ms...</td>\n",
       "      <td>0.955</td>\n",
       "      <td>{'learning_rate': 0.02, 'max_depth': 4, 'n_est...</td>\n",
       "    </tr>\n",
       "    <tr>\n",
       "      <th>3</th>\n",
       "      <td>LGBMRegressor()</td>\n",
       "      <td>2.513</td>\n",
       "      <td>1.000</td>\n",
       "      <td>2.485</td>\n",
       "      <td>1.000</td>\n",
       "      <td>LGBMRegressor(device_type='gpu', learning_rate...</td>\n",
       "      <td>0.951</td>\n",
       "      <td>{'device_type': 'gpu', 'learning_rate': 0.03, ...</td>\n",
       "    </tr>\n",
       "    <tr>\n",
       "      <th>4</th>\n",
       "      <td>XGBRegressor(base_score=0.5, booster='gbtree',...</td>\n",
       "      <td>2.544</td>\n",
       "      <td>1.000</td>\n",
       "      <td>2.560</td>\n",
       "      <td>1.000</td>\n",
       "      <td>XGBRegressor(base_score=0.5, booster='gbtree',...</td>\n",
       "      <td>0.954</td>\n",
       "      <td>{'colsample_bytree': 0.6, 'gamma': 0.3, 'max_d...</td>\n",
       "    </tr>\n",
       "  </tbody>\n",
       "</table>\n",
       "</div>"
      ],
      "text/plain": [
       "                                               model  untuned_RMSE  \\\n",
       "0                                 LinearRegression()         4.836   \n",
       "1                            RandomForestRegressor()         2.702   \n",
       "2                        GradientBoostingRegressor()         2.556   \n",
       "3                                    LGBMRegressor()         2.513   \n",
       "4  XGBRegressor(base_score=0.5, booster='gbtree',...         2.544   \n",
       "\n",
       "   untuned_score  tuned_RMSE  tuned_score  \\\n",
       "0          1.000       4.836        1.000   \n",
       "1          1.000       2.735        1.000   \n",
       "2          1.000       2.393        1.000   \n",
       "3          1.000       2.485        1.000   \n",
       "4          1.000       2.560        1.000   \n",
       "\n",
       "                           gridsearch_best_estimator  best_score  \\\n",
       "0                   LinearRegression(normalize=True)       0.838   \n",
       "1  (DecisionTreeRegressor(max_depth=12, max_featu...       0.954   \n",
       "2  ([DecisionTreeRegressor(criterion='friedman_ms...       0.955   \n",
       "3  LGBMRegressor(device_type='gpu', learning_rate...       0.951   \n",
       "4  XGBRegressor(base_score=0.5, booster='gbtree',...       0.954   \n",
       "\n",
       "                                         best_params  \n",
       "0         {'fit_intercept': True, 'normalize': True}  \n",
       "1  {'bootstrap': True, 'max_depth': 12, 'max_feat...  \n",
       "2  {'learning_rate': 0.02, 'max_depth': 4, 'n_est...  \n",
       "3  {'device_type': 'gpu', 'learning_rate': 0.03, ...  \n",
       "4  {'colsample_bytree': 0.6, 'gamma': 0.3, 'max_d...  "
      ]
     },
     "execution_count": 837,
     "metadata": {},
     "output_type": "execute_result"
    }
   ],
   "source": [
    "scores"
   ]
  },
  {
   "cell_type": "markdown",
   "id": "171a2180",
   "metadata": {},
   "source": [
    "**Best Model appears to be the GradientBoostingRegressor, however XGB performs more consistently**"
   ]
  },
  {
   "cell_type": "markdown",
   "id": "4929a35d",
   "metadata": {},
   "source": [
    "#### train on full dataset"
   ]
  },
  {
   "cell_type": "code",
   "execution_count": 859,
   "id": "822fa353",
   "metadata": {},
   "outputs": [],
   "source": [
    "params = XGB.best_params_"
   ]
  },
  {
   "cell_type": "code",
   "execution_count": 864,
   "id": "3d2e595d",
   "metadata": {},
   "outputs": [
    {
     "name": "stdout",
     "output_type": "stream",
     "text": [
      "[13:12:16] WARNING: C:/Users/administrator/workspace/xgboost-win64_release_1.6.0/src/learner.cc:627: \n",
      "Parameters: { \"params\" } might not be used.\n",
      "\n",
      "  This could be a false alarm, with some parameters getting used by language bindings but\n",
      "  then being mistakenly passed down to XGBoost core, or some parameter actually being used\n",
      "  but getting flagged wrongly here. Please open an issue if you find any such cases.\n",
      "\n",
      "\n",
      "RMSE: 2.3820999501802667\n",
      "Score:1.0\n",
      "CPU times: total: 21min 10s\n",
      "Wall time: 1min 30s\n"
     ]
    }
   ],
   "source": [
    "%%time\n",
    "model = xgb.XGBRegressor(params = params)\n",
    "model.fit(X_train, y_train)\n",
    "y_pred = model.predict(X_test)\n",
    "RMSE = np.sqrt(mean_squared_error(y_test, y_pred))\n",
    "score = model.score(X_test, y_pred)\n",
    "\n",
    "print(f\"RMSE: {RMSE}\\nScore:{score}\")"
   ]
  },
  {
   "cell_type": "code",
   "execution_count": 865,
   "id": "322b41a0",
   "metadata": {},
   "outputs": [
    {
     "data": {
      "text/plain": [
       "<AxesSubplot:title={'center':'Feature importance'}, xlabel='F score', ylabel='Features'>"
      ]
     },
     "execution_count": 865,
     "metadata": {},
     "output_type": "execute_result"
    },
    {
     "data": {
      "image/png": "[encoded data removed]",
      "text/plain": [
       "<Figure size 640x480 with 1 Axes>"
      ]
     },
     "metadata": {},
     "output_type": "display_data"
    }
   ],
   "source": [
    "plot_importance(model)"
   ]
  },
  {
   "cell_type": "markdown",
   "id": "139bac89",
   "metadata": {},
   "source": [
    "### Defining A functin to take input "
   ]
  },
  {
   "cell_type": "code",
   "execution_count": 871,
   "id": "958cf5d3",
   "metadata": {},
   "outputs": [],
   "source": [
    "import requests\n",
    "import json\n",
    "\n",
    "#test\n",
    "lon_1 = -74.172\n",
    "lat = 40.689 \n",
    "lon_2 = -74.188\n",
    "lat_2 = 40.551\n",
    "# call the OSMR API\n",
    "r = requests.get(f\"http://router.project-osrm.org/route/v1/car/{lon_1},{lat};{lon_2},{lat_2}?overview=false\"\"\")\n",
    "# then you load the response using the json libray\n",
    "# by default you get only one alternative so you access 0-th element of the `routes`\n",
    "routes = json.loads(r.content)\n",
    "route_1 = routes.get(\"routes\")[0]['duration']"
   ]
  },
  {
   "cell_type": "code",
   "execution_count": 874,
   "id": "803e1831",
   "metadata": {},
   "outputs": [
    {
     "data": {
      "text/plain": [
       "24.69"
      ]
     },
     "execution_count": 874,
     "metadata": {},
     "output_type": "execute_result"
    }
   ],
   "source": [
    "trip_duration = route_1/60\n",
    "trip_duration"
   ]
  },
  {
   "cell_type": "markdown",
   "id": "deadb6f3",
   "metadata": {},
   "source": [
    "**trip duration plays a role, however the user cannot give that as input, so using an API to get a reasonable guess helps with the prediction, now user only has to enter pick up and drop of zones**"
   ]
  },
  {
   "cell_type": "code",
   "execution_count": 879,
   "id": "3f877366",
   "metadata": {},
   "outputs": [
    {
     "data": {
      "text/html": [
       "<div>\n",
       "<style scoped>\n",
       "    .dataframe tbody tr th:only-of-type {\n",
       "        vertical-align: middle;\n",
       "    }\n",
       "\n",
       "    .dataframe tbody tr th {\n",
       "        vertical-align: top;\n",
       "    }\n",
       "\n",
       "    .dataframe thead th {\n",
       "        text-align: right;\n",
       "    }\n",
       "</style>\n",
       "<table border=\"1\" class=\"dataframe\">\n",
       "  <thead>\n",
       "    <tr style=\"text-align: right;\">\n",
       "      <th></th>\n",
       "      <th>zone</th>\n",
       "      <th>longitude</th>\n",
       "      <th>latitude</th>\n",
       "    </tr>\n",
       "  </thead>\n",
       "  <tbody>\n",
       "    <tr>\n",
       "      <th>0</th>\n",
       "      <td>Newark Airport</td>\n",
       "      <td>-74.172</td>\n",
       "      <td>40.689</td>\n",
       "    </tr>\n",
       "    <tr>\n",
       "      <th>1</th>\n",
       "      <td>Jamaica Bay</td>\n",
       "      <td>-73.822</td>\n",
       "      <td>40.611</td>\n",
       "    </tr>\n",
       "    <tr>\n",
       "      <th>2</th>\n",
       "      <td>Allerton/Pelham Gardens</td>\n",
       "      <td>-73.845</td>\n",
       "      <td>40.866</td>\n",
       "    </tr>\n",
       "    <tr>\n",
       "      <th>3</th>\n",
       "      <td>Alphabet City</td>\n",
       "      <td>-73.978</td>\n",
       "      <td>40.724</td>\n",
       "    </tr>\n",
       "    <tr>\n",
       "      <th>4</th>\n",
       "      <td>Arden Heights</td>\n",
       "      <td>-74.188</td>\n",
       "      <td>40.551</td>\n",
       "    </tr>\n",
       "    <tr>\n",
       "      <th>...</th>\n",
       "      <td>...</td>\n",
       "      <td>...</td>\n",
       "      <td>...</td>\n",
       "    </tr>\n",
       "    <tr>\n",
       "      <th>258</th>\n",
       "      <td>Woodlawn/Wakefield</td>\n",
       "      <td>-73.856</td>\n",
       "      <td>40.899</td>\n",
       "    </tr>\n",
       "    <tr>\n",
       "      <th>259</th>\n",
       "      <td>Woodside</td>\n",
       "      <td>-73.907</td>\n",
       "      <td>40.747</td>\n",
       "    </tr>\n",
       "    <tr>\n",
       "      <th>260</th>\n",
       "      <td>World Trade Center</td>\n",
       "      <td>-74.013</td>\n",
       "      <td>40.709</td>\n",
       "    </tr>\n",
       "    <tr>\n",
       "      <th>261</th>\n",
       "      <td>Yorkville East</td>\n",
       "      <td>-73.945</td>\n",
       "      <td>40.777</td>\n",
       "    </tr>\n",
       "    <tr>\n",
       "      <th>262</th>\n",
       "      <td>Yorkville West</td>\n",
       "      <td>-73.951</td>\n",
       "      <td>40.779</td>\n",
       "    </tr>\n",
       "  </tbody>\n",
       "</table>\n",
       "<p>271 rows × 3 columns</p>\n",
       "</div>"
      ],
      "text/plain": [
       "                        zone  longitude  latitude\n",
       "0             Newark Airport    -74.172    40.689\n",
       "1                Jamaica Bay    -73.822    40.611\n",
       "2    Allerton/Pelham Gardens    -73.845    40.866\n",
       "3              Alphabet City    -73.978    40.724\n",
       "4              Arden Heights    -74.188    40.551\n",
       "..                       ...        ...       ...\n",
       "258       Woodlawn/Wakefield    -73.856    40.899\n",
       "259                 Woodside    -73.907    40.747\n",
       "260       World Trade Center    -74.013    40.709\n",
       "261           Yorkville East    -73.945    40.777\n",
       "262           Yorkville West    -73.951    40.779\n",
       "\n",
       "[271 rows x 3 columns]"
      ]
     },
     "execution_count": 879,
     "metadata": {},
     "output_type": "execute_result"
    }
   ],
   "source": [
    "# shape file specific for this scenario\n",
    "sf = shapefile.Reader(\"3/taxi_zones.shp\")\n",
    "fields_name = [field[0] for field in sf.fields[1:]]\n",
    "shp_dic = dict(zip(fields_name, list(range(len(fields_name)))))\n",
    "attributes = sf.records()\n",
    "shp_attr = [dict(zip(fields_name, attr)) for attr in attributes]\n",
    "\n",
    "df_zones= pd.DataFrame(shp_attr).join(get_lat_lon(sf).set_index(\"LocationID\"), on=\"LocationID\")\n",
    "df_zones.drop(['OBJECTID', 'Shape_Leng', 'Shape_Area', 'LocationID', 'borough'], inplace=True, axis=1)\n",
    "df_zones"
   ]
  },
  {
   "cell_type": "code",
   "execution_count": 880,
   "id": "ba05d0ca",
   "metadata": {},
   "outputs": [],
   "source": [
    "df_zones.to_csv('prediction_zones.csv', index=None)"
   ]
  },
  {
   "cell_type": "code",
   "execution_count": 884,
   "id": "a5120cad",
   "metadata": {},
   "outputs": [
    {
     "data": {
      "text/plain": [
       "Index(['passenger_count', 'pickup_long', 'pickup_lat', 'dropoff_long',\n",
       "       'dropoff_lat', 'trip_duration', 'day', 'month', 'year', 'day_of_week',\n",
       "       'hour', 'distance', 'pickup_jfk_distance', 'dropoff_jfk_distance',\n",
       "       'pickup_ewr_distance', 'dropoff_ewr_distance', 'pickup_lga_distance',\n",
       "       'dropoff_lga_distance'],\n",
       "      dtype='object')"
      ]
     },
     "execution_count": 884,
     "metadata": {},
     "output_type": "execute_result"
    }
   ],
   "source": [
    "X_train.columns"
   ]
  },
  {
   "cell_type": "code",
   "execution_count": 883,
   "id": "a1e12624",
   "metadata": {},
   "outputs": [],
   "source": [
    "import bentoml"
   ]
  },
  {
   "cell_type": "code",
   "execution_count": 886,
   "id": "17003e7b",
   "metadata": {},
   "outputs": [],
   "source": [
    "import datetime"
   ]
  },
  {
   "cell_type": "code",
   "execution_count": 1053,
   "id": "518745fa",
   "metadata": {},
   "outputs": [],
   "source": [
    "data = {\n",
    "    \"passenger_count\": 1,\n",
    "    \"pickup_zone\": \"Yorkville East\",\n",
    "    \"dropoff_zone\": \"Yorkville West\"\n",
    "}"
   ]
  },
  {
   "cell_type": "code",
   "execution_count": 1075,
   "id": "3c70e4eb",
   "metadata": {},
   "outputs": [],
   "source": [
    "class PredictionAssistant:\n",
    "    \"\"\"\n",
    "    data comes in form\n",
    "    passenger_count\n",
    "    pickup_zone\n",
    "    dropoff\n",
    "    \"\"\"\n",
    "    df2 = pd.read_csv('prediction_zones.csv')\n",
    "    \n",
    "    now = datetime.datetime.now()\n",
    "    def __init__(self, inputs):\n",
    "        self.inputs = inputs\n",
    "        self.df1 = pd.DataFrame([self.inputs])\n",
    "\n",
    "    \n",
    "    \n",
    "    def get_trip_duration(self, df):\n",
    "        r = requests.get(f\"http://router.project-osrm.org/route/v1/car/{df.pickup_long[0]},{df.pickup_lat[0]};{df.dropoff_long[0]},{df.dropoff_lat[0]}?overview=false\"\"\")\n",
    "        routes = json.loads(r.content)\n",
    "        trip_duration = routes.get(\"routes\")[0]['duration']\n",
    "        trip_duration = trip_duration/60\n",
    "        return trip_duration\n",
    "    \n",
    "    def get_distance(self, s_lat, s_lng, e_lat, e_lng):\n",
    "       # approximate radius of earth in km\n",
    "       R = 6373.0\n",
    "\n",
    "       s_lat = s_lat*np.pi/180.0                      \n",
    "       s_lng = np.deg2rad(s_lng)     \n",
    "       e_lat = np.deg2rad(e_lat)                       \n",
    "       e_lng = np.deg2rad(e_lng)  \n",
    "\n",
    "       d = np.sin((e_lat - s_lat)/2)**2 + np.cos(s_lat)*np.cos(e_lat) * np.sin((e_lng - s_lng)/2)**2\n",
    "\n",
    "       return 2 * R * np.arcsin(np.sqrt(d))\n",
    "    \n",
    "    def add_distances_from_airport(self, df):\n",
    "        #coordinates of all these airports\n",
    "        jfk_coords = (40.639722, -73.778889)\n",
    "        ewr_coords = (40.6925, -74.168611)\n",
    "        lga_coords = (40.77725, -73.872611)\n",
    "\n",
    "        df['pickup_jfk_distance'] = self.get_distance(jfk_coords[0], jfk_coords[1], df.pickup_lat, df.pickup_long)\n",
    "        df['dropoff_jfk_distance'] = self.get_distance(jfk_coords[0], jfk_coords[1], df.dropoff_lat, df.dropoff_long)\n",
    "\n",
    "        df['pickup_ewr_distance'] = self.get_distance(ewr_coords[0], ewr_coords[1], df.pickup_lat, df.pickup_long)\n",
    "        df['dropoff_ewr_distance'] = self.get_distance(ewr_coords[0], ewr_coords[1], df.dropoff_lat, df.dropoff_long)\n",
    "\n",
    "        df['pickup_lga_distance'] = self.get_distance(lga_coords[0], lga_coords[1], df.pickup_lat, df.pickup_long)\n",
    "        df['dropoff_lga_distance'] = self.get_distance(lga_coords[0], lga_coords[1], df.dropoff_lat, df.dropoff_long)\n",
    "\n",
    "        return df\n",
    "\n",
    "        \n",
    "    def merge_geo(self, df1, df2, left_on):\n",
    "        prefix = left_on.split('_')[0]\n",
    "        df = pd.merge(df1, df2, how=\"left\", left_on=[left_on], right_on=['zone'] )\n",
    "        df.rename(columns = {\"longitude\": f\"{prefix}_long\", \"latitude\":f'{prefix}_lat' }, \n",
    "              inplace = True)\n",
    "        df.drop(['zone', left_on], axis=1, inplace=True)\n",
    "        return df\n",
    "    \n",
    "    \n",
    "    def run(self):\n",
    "        df = self.merge_geo(self.df1, df2,'pickup_zone')\n",
    "        df = self.merge_geo(df, df2, 'dropoff_zone')\n",
    "        df['trip_duration'] = self.get_trip_duration(df)\n",
    "        df['day'] = now.day\n",
    "        df['month'] = now.month\n",
    "        df['year'] = now.year\n",
    "        df['day_of_week'] = now.weekday()\n",
    "        df['hour'] = now.hour\n",
    "        df['distance'] =self.get_distance(df.pickup_long, df.pickup_lat, df.dropoff_long, df.dropoff_lat)\n",
    "        df = self.add_distances_from_airport(df)\n",
    "        return df\n",
    "    "
   ]
  },
  {
   "cell_type": "code",
   "execution_count": 1055,
   "id": "fd309080",
   "metadata": {},
   "outputs": [
    {
     "data": {
      "text/html": [
       "<div>\n",
       "<style scoped>\n",
       "    .dataframe tbody tr th:only-of-type {\n",
       "        vertical-align: middle;\n",
       "    }\n",
       "\n",
       "    .dataframe tbody tr th {\n",
       "        vertical-align: top;\n",
       "    }\n",
       "\n",
       "    .dataframe thead th {\n",
       "        text-align: right;\n",
       "    }\n",
       "</style>\n",
       "<table border=\"1\" class=\"dataframe\">\n",
       "  <thead>\n",
       "    <tr style=\"text-align: right;\">\n",
       "      <th></th>\n",
       "      <th>passenger_count</th>\n",
       "      <th>pickup_zone</th>\n",
       "      <th>dropoff_zone</th>\n",
       "    </tr>\n",
       "  </thead>\n",
       "  <tbody>\n",
       "    <tr>\n",
       "      <th>0</th>\n",
       "      <td>1</td>\n",
       "      <td>Yorkville East</td>\n",
       "      <td>Yorkville West</td>\n",
       "    </tr>\n",
       "  </tbody>\n",
       "</table>\n",
       "</div>"
      ],
      "text/plain": [
       "   passenger_count     pickup_zone    dropoff_zone\n",
       "0                1  Yorkville East  Yorkville West"
      ]
     },
     "execution_count": 1055,
     "metadata": {},
     "output_type": "execute_result"
    }
   ],
   "source": [
    "test = PredictionAssistant(data)\n",
    "test.df1"
   ]
  },
  {
   "cell_type": "code",
   "execution_count": 1056,
   "id": "c7772076",
   "metadata": {},
   "outputs": [],
   "source": [
    "s = test.run()"
   ]
  },
  {
   "cell_type": "code",
   "execution_count": 1057,
   "id": "cff35d98",
   "metadata": {},
   "outputs": [
    {
     "data": {
      "text/plain": [
       "passenger_count           int64\n",
       "pickup_long             float64\n",
       "pickup_lat              float64\n",
       "dropoff_long            float64\n",
       "dropoff_lat             float64\n",
       "trip_duration           float64\n",
       "hour                      int64\n",
       "day                       int64\n",
       "month                     int64\n",
       "year                      int64\n",
       "day_of_week               int64\n",
       "distance                float64\n",
       "pickup_jfk_distance     float64\n",
       "dropoff_jfk_distance    float64\n",
       "pickup_ewr_distance     float64\n",
       "dropoff_ewr_distance    float64\n",
       "pickup_lga_distance     float64\n",
       "dropoff_lga_distance    float64\n",
       "dtype: object"
      ]
     },
     "execution_count": 1057,
     "metadata": {},
     "output_type": "execute_result"
    }
   ],
   "source": [
    "s.dtypes"
   ]
  },
  {
   "cell_type": "code",
   "execution_count": 1059,
   "id": "428c22c8",
   "metadata": {},
   "outputs": [
    {
     "data": {
      "text/plain": [
       "4.4952326"
      ]
     },
     "execution_count": 1059,
     "metadata": {},
     "output_type": "execute_result"
    }
   ],
   "source": [
    "model.predict(s)[0]"
   ]
  },
  {
   "cell_type": "code",
   "execution_count": 1076,
   "id": "2f903e9b",
   "metadata": {},
   "outputs": [
    {
     "data": {
      "text/plain": [
       "Model(tag=\"ny_taxi_model:zuxnagc3qolf3bfj\", path=\"C:\\Users\\Kawba\\bentoml\\models\\ny_taxi_model\\zuxnagc3qolf3bfj\\\")"
      ]
     },
     "execution_count": 1076,
     "metadata": {},
     "output_type": "execute_result"
    }
   ],
   "source": [
    "bentoml.xgboost.save_model(\"ny_taxi_model\", model, custom_objects={\n",
    "    \"prediction_assistant\": PredictionAssistant})"
   ]
  },
  {
   "cell_type": "code",
   "execution_count": 1072,
   "id": "303d6030",
   "metadata": {},
   "outputs": [
    {
     "data": {
      "text/plain": [
       "Index(['passenger_count', 'pickup_long', 'pickup_lat', 'dropoff_long',\n",
       "       'dropoff_lat', 'trip_duration', 'day', 'month', 'year', 'day_of_week',\n",
       "       'hour', 'distance', 'pickup_jfk_distance', 'dropoff_jfk_distance',\n",
       "       'pickup_ewr_distance', 'dropoff_ewr_distance', 'pickup_lga_distance',\n",
       "       'dropoff_lga_distance'],\n",
       "      dtype='object')"
      ]
     },
     "execution_count": 1072,
     "metadata": {},
     "output_type": "execute_result"
    }
   ],
   "source": [
    "X_train.columns"
   ]
  },
  {
   "cell_type": "code",
   "execution_count": 1071,
   "id": "f3abf430",
   "metadata": {},
   "outputs": [
    {
     "data": {
      "text/plain": [
       "True"
      ]
     },
     "execution_count": 1071,
     "metadata": {},
     "output_type": "execute_result"
    }
   ],
   "source": [
    "len(s.columns) == len(X_train.columns)"
   ]
  },
  {
   "cell_type": "code",
   "execution_count": null,
   "id": "c404776b",
   "metadata": {},
   "outputs": [],
   "source": []
  },
  {
   "cell_type": "markdown",
   "id": "dadc962a",
   "metadata": {},
   "source": [
    "#### Testing"
   ]
  },
  {
   "cell_type": "code",
   "execution_count": 1124,
   "id": "039dc763",
   "metadata": {},
   "outputs": [
    {
     "name": "stdout",
     "output_type": "stream",
     "text": [
      "{\"passenger_count\": 7, \"pickup_zone\": \"Morrisania/Melrose\", \"dropoff_zone\": \"West Village\"}\n"
     ]
    }
   ],
   "source": [
    "class doubleQuoteDict(dict):\n",
    "    def __str__(self):\n",
    "        return json.dumps(self)\n",
    "\n",
    "    def __repr__(self):\n",
    "        return json.dumps(self)\n",
    "x = ((df_zones.sample())['zone'].to_string(index=False))\n",
    "y = ((df_zones.sample())['zone'].to_string(index=False))\n",
    "passenger_count = np.random.randint(8)\n",
    "pairs = [\n",
    "           ['passenger_count', passenger_count], \n",
    "           ['pickup_zone', x], \n",
    "           ['dropoff_zone', y], \n",
    "          ]\n",
    "pairs = doubleQuoteDict(pairs)\n",
    "print(pairs)"
   ]
  },
  {
   "cell_type": "code",
   "execution_count": 1119,
   "id": "40f88e1a",
   "metadata": {},
   "outputs": [
    {
     "data": {
      "text/html": [
       "<div>\n",
       "<style scoped>\n",
       "    .dataframe tbody tr th:only-of-type {\n",
       "        vertical-align: middle;\n",
       "    }\n",
       "\n",
       "    .dataframe tbody tr th {\n",
       "        vertical-align: top;\n",
       "    }\n",
       "\n",
       "    .dataframe thead th {\n",
       "        text-align: right;\n",
       "    }\n",
       "</style>\n",
       "<table border=\"1\" class=\"dataframe\">\n",
       "  <thead>\n",
       "    <tr style=\"text-align: right;\">\n",
       "      <th></th>\n",
       "      <th>zone</th>\n",
       "      <th>longitude</th>\n",
       "      <th>latitude</th>\n",
       "    </tr>\n",
       "  </thead>\n",
       "  <tbody>\n",
       "    <tr>\n",
       "      <th>0</th>\n",
       "      <td>Newark Airport</td>\n",
       "      <td>-74.172</td>\n",
       "      <td>40.689</td>\n",
       "    </tr>\n",
       "    <tr>\n",
       "      <th>1</th>\n",
       "      <td>Jamaica Bay</td>\n",
       "      <td>-73.822</td>\n",
       "      <td>40.611</td>\n",
       "    </tr>\n",
       "    <tr>\n",
       "      <th>2</th>\n",
       "      <td>Allerton/Pelham Gardens</td>\n",
       "      <td>-73.845</td>\n",
       "      <td>40.866</td>\n",
       "    </tr>\n",
       "    <tr>\n",
       "      <th>3</th>\n",
       "      <td>Alphabet City</td>\n",
       "      <td>-73.978</td>\n",
       "      <td>40.724</td>\n",
       "    </tr>\n",
       "    <tr>\n",
       "      <th>4</th>\n",
       "      <td>Arden Heights</td>\n",
       "      <td>-74.188</td>\n",
       "      <td>40.551</td>\n",
       "    </tr>\n",
       "    <tr>\n",
       "      <th>...</th>\n",
       "      <td>...</td>\n",
       "      <td>...</td>\n",
       "      <td>...</td>\n",
       "    </tr>\n",
       "    <tr>\n",
       "      <th>258</th>\n",
       "      <td>Woodlawn/Wakefield</td>\n",
       "      <td>-73.856</td>\n",
       "      <td>40.899</td>\n",
       "    </tr>\n",
       "    <tr>\n",
       "      <th>259</th>\n",
       "      <td>Woodside</td>\n",
       "      <td>-73.907</td>\n",
       "      <td>40.747</td>\n",
       "    </tr>\n",
       "    <tr>\n",
       "      <th>260</th>\n",
       "      <td>World Trade Center</td>\n",
       "      <td>-74.013</td>\n",
       "      <td>40.709</td>\n",
       "    </tr>\n",
       "    <tr>\n",
       "      <th>261</th>\n",
       "      <td>Yorkville East</td>\n",
       "      <td>-73.945</td>\n",
       "      <td>40.777</td>\n",
       "    </tr>\n",
       "    <tr>\n",
       "      <th>262</th>\n",
       "      <td>Yorkville West</td>\n",
       "      <td>-73.951</td>\n",
       "      <td>40.779</td>\n",
       "    </tr>\n",
       "  </tbody>\n",
       "</table>\n",
       "<p>271 rows × 3 columns</p>\n",
       "</div>"
      ],
      "text/plain": [
       "                        zone  longitude  latitude\n",
       "0             Newark Airport    -74.172    40.689\n",
       "1                Jamaica Bay    -73.822    40.611\n",
       "2    Allerton/Pelham Gardens    -73.845    40.866\n",
       "3              Alphabet City    -73.978    40.724\n",
       "4              Arden Heights    -74.188    40.551\n",
       "..                       ...        ...       ...\n",
       "258       Woodlawn/Wakefield    -73.856    40.899\n",
       "259                 Woodside    -73.907    40.747\n",
       "260       World Trade Center    -74.013    40.709\n",
       "261           Yorkville East    -73.945    40.777\n",
       "262           Yorkville West    -73.951    40.779\n",
       "\n",
       "[271 rows x 3 columns]"
      ]
     },
     "execution_count": 1119,
     "metadata": {},
     "output_type": "execute_result"
    }
   ],
   "source": [
    "df_zones"
   ]
  },
  {
   "cell_type": "code",
   "execution_count": null,
   "id": "2e884e40",
   "metadata": {},
   "outputs": [],
   "source": []
  }
 ],
 "metadata": {
  "kernelspec": {
   "display_name": "Python 3.10.0 64-bit",
   "language": "python",
   "name": "python3"
  },
  "language_info": {
   "codemirror_mode": {
    "name": "ipython",
    "version": 3
   },
   "file_extension": ".py",
   "mimetype": "text/x-python",
   "name": "python",
   "nbconvert_exporter": "python",
   "pygments_lexer": "ipython3",
   "version": "3.10.0"
  },
  "vscode": {
   "interpreter": {
    "hash": "767d51c1340bd893661ea55ea3124f6de3c7a262a8b4abca0554b478b1e2ff90"
   }
  }
 },
 "nbformat": 4,
 "nbformat_minor": 5
}
