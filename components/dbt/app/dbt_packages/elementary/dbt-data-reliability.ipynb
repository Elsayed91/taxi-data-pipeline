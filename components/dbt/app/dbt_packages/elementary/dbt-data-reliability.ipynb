{
 "cells": [
  {
   "cell_type": "code",
   "execution_count": 77,
   "outputs": [
    {
     "name": "stdout",
     "output_type": "stream",
     "text": [
      "22:58:21  [WARNING]: Deprecated functionality\n",
      "The `source-paths` config has been renamed to `model-paths`. Please update your\n",
      "`dbt_project.yml` configuration to reflect this change.\n",
      "22:58:21  [WARNING]: Deprecated functionality\n",
      "The `data-paths` config has been renamed to `seed-paths`. Please update your\n",
      "`dbt_project.yml` configuration to reflect this change.\n",
      "22:58:21  Running with dbt=1.0.2-rc1\n",
      "22:58:22  Encountered an error:\n",
      "Compilation Error in model test_model (models/test_model.sql)\n",
      "  'None' has no attribute 'table'\n",
      "  \n",
      "  > in macro monitors_query (macros/data_monitoring/metrics collection/monitors_query.sql)\n",
      "  > called by model test_model (models/test_model.sql)\n",
      "\n"
     ]
    }
   ],
   "source": [
    "import subprocess\n",
    "\n",
    "res = subprocess.run([\"dbt\", \"run\", \"-m\", \"test_model\"], capture_output=True)\n",
    "print(res.stdout.decode('utf-8'))"
   ],
   "metadata": {
    "collapsed": false,
    "pycharm": {
     "name": "#%%\n"
    }
   }
  },
  {
   "cell_type": "code",
   "execution_count": 54,
   "metadata": {
    "collapsed": true
   },
   "outputs": [],
   "source": [
    "import subprocess\n",
    "import json\n",
    "\n",
    "\n",
    "res = subprocess.run([\"dbt\", \"--debug\", \"--log-format\", \"json\", \"run\", \"-m\", \"test_model\"], capture_output=True)\n",
    "json_messages = res.stdout.decode('utf-8').splitlines()\n",
    "json_messages = [json.loads(line) for line in json_messages]\n",
    "log_messages = [msg for msg in json_messages if msg['code'] in {'M011', 'M012'}]\n",
    "log_msgs_count = len(log_messages)\n",
    "debugged_msgs = []\n",
    "for i in range(log_msgs_count):\n",
    "    if log_messages[i]['data']['msg'] == 'EDR_LOG_PRE' and i + 2 < log_msgs_count and log_messages[i + 2]['data']['msg'] == 'EDR_LOG_AFTER':\n",
    "        debugged_msgs.append(log_messages[i + 1]['data']['msg'])"
   ]
  },
  {
   "cell_type": "code",
   "execution_count": 55,
   "outputs": [
    {
     "data": {
      "text/plain": "[1, 1]"
     },
     "execution_count": 55,
     "metadata": {},
     "output_type": "execute_result"
    }
   ],
   "source": [
    "debugged_msgs"
   ],
   "metadata": {
    "collapsed": false,
    "pycharm": {
     "name": "#%%\n"
    }
   }
  },
  {
   "cell_type": "code",
   "execution_count": null,
   "outputs": [],
   "source": [
    "a['config']['']"
   ],
   "metadata": {
    "collapsed": false,
    "pycharm": {
     "name": "#%%\n"
    }
   }
  }
 ],
 "metadata": {
  "kernelspec": {
   "display_name": "Python 3",
   "language": "python",
   "name": "python3"
  },
  "language_info": {
   "codemirror_mode": {
    "name": "ipython",
    "version": 2
   },
   "file_extension": ".py",
   "mimetype": "text/x-python",
   "name": "python",
   "nbconvert_exporter": "python",
   "pygments_lexer": "ipython2",
   "version": "2.7.6"
  }
 },
 "nbformat": 4,
 "nbformat_minor": 0
}